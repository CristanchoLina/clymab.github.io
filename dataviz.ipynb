{
 "cells": [
  {
   "cell_type": "code",
   "execution_count": 4,
   "metadata": {
    "collapsed": true
   },
   "outputs": [],
   "source": [
    "import pandas as pd\n",
    "import numpy as np\n",
    "from datetime import datetime \n",
    "from sklearn.model_selection import train_test_split\n",
    "import matplotlib.pyplot as plt\n",
    "from datetime import datetime\n",
    "import os"
   ]
  },
  {
   "cell_type": "code",
   "execution_count": 5,
   "metadata": {
    "collapsed": true
   },
   "outputs": [],
   "source": [
    "%matplotlib inline\n",
    "pd.set_option(\"display.max_rows\", None)\n",
    "pd.set_option(\"display.max_columns\", None)\n",
    "os.chdir(\"C:/Users/mgdjohossou/cours/semestre2/data_viz/accidents\")"
   ]
  },
  {
   "cell_type": "code",
   "execution_count": 6,
   "metadata": {
    "scrolled": false
   },
   "outputs": [
    {
     "name": "stderr",
     "output_type": "stream",
     "text": [
      "C:\\Users\\mgdjohossou\\AppData\\Local\\Continuum\\anaconda3\\lib\\site-packages\\IPython\\core\\interactiveshell.py:2698: DtypeWarning: Columns (14) have mixed types. Specify dtype option on import or set low_memory=False.\n",
      "  interactivity=interactivity, compiler=compiler, result=result)\n"
     ]
    }
   ],
   "source": [
    "caract = pd.read_csv(\"caracteristiques_2010_2016.csv\", sep = \";\", encoding = \"latin_1\")"
   ]
  },
  {
   "cell_type": "code",
   "execution_count": 7,
   "metadata": {},
   "outputs": [
    {
     "data": {
      "text/html": [
       "<div>\n",
       "<style>\n",
       "    .dataframe thead tr:only-child th {\n",
       "        text-align: right;\n",
       "    }\n",
       "\n",
       "    .dataframe thead th {\n",
       "        text-align: left;\n",
       "    }\n",
       "\n",
       "    .dataframe tbody tr th {\n",
       "        vertical-align: top;\n",
       "    }\n",
       "</style>\n",
       "<table border=\"1\" class=\"dataframe\">\n",
       "  <thead>\n",
       "    <tr style=\"text-align: right;\">\n",
       "      <th></th>\n",
       "      <th>Num_Acc</th>\n",
       "      <th>an</th>\n",
       "      <th>mois</th>\n",
       "      <th>jour</th>\n",
       "      <th>hrmn</th>\n",
       "      <th>lum</th>\n",
       "      <th>agg</th>\n",
       "      <th>int</th>\n",
       "      <th>atm</th>\n",
       "      <th>col</th>\n",
       "      <th>com</th>\n",
       "      <th>adr</th>\n",
       "      <th>gps</th>\n",
       "      <th>lat</th>\n",
       "      <th>long</th>\n",
       "      <th>dep</th>\n",
       "    </tr>\n",
       "  </thead>\n",
       "  <tbody>\n",
       "    <tr>\n",
       "      <th>0</th>\n",
       "      <td>2,01E+11</td>\n",
       "      <td>2010</td>\n",
       "      <td>6</td>\n",
       "      <td>12</td>\n",
       "      <td>1930</td>\n",
       "      <td>1</td>\n",
       "      <td>2</td>\n",
       "      <td>1</td>\n",
       "      <td>1.0</td>\n",
       "      <td>6.0</td>\n",
       "      <td>52</td>\n",
       "      <td>71 RUE JEAN JAURES</td>\n",
       "      <td>M</td>\n",
       "      <td>0.0</td>\n",
       "      <td>0</td>\n",
       "      <td>590</td>\n",
       "    </tr>\n",
       "    <tr>\n",
       "      <th>1</th>\n",
       "      <td>2,01E+11</td>\n",
       "      <td>2010</td>\n",
       "      <td>8</td>\n",
       "      <td>7</td>\n",
       "      <td>1000</td>\n",
       "      <td>1</td>\n",
       "      <td>2</td>\n",
       "      <td>1</td>\n",
       "      <td>1.0</td>\n",
       "      <td>6.0</td>\n",
       "      <td>477</td>\n",
       "      <td>Rue Nationale</td>\n",
       "      <td>M</td>\n",
       "      <td>5051600.0</td>\n",
       "      <td>292000</td>\n",
       "      <td>590</td>\n",
       "    </tr>\n",
       "    <tr>\n",
       "      <th>2</th>\n",
       "      <td>2,01E+11</td>\n",
       "      <td>2010</td>\n",
       "      <td>9</td>\n",
       "      <td>11</td>\n",
       "      <td>1600</td>\n",
       "      <td>1</td>\n",
       "      <td>1</td>\n",
       "      <td>1</td>\n",
       "      <td>1.0</td>\n",
       "      <td>5.0</td>\n",
       "      <td>11</td>\n",
       "      <td>NaN</td>\n",
       "      <td>M</td>\n",
       "      <td>0.0</td>\n",
       "      <td>0</td>\n",
       "      <td>590</td>\n",
       "    </tr>\n",
       "    <tr>\n",
       "      <th>3</th>\n",
       "      <td>2,01E+11</td>\n",
       "      <td>2010</td>\n",
       "      <td>9</td>\n",
       "      <td>22</td>\n",
       "      <td>1630</td>\n",
       "      <td>1</td>\n",
       "      <td>2</td>\n",
       "      <td>1</td>\n",
       "      <td>1.0</td>\n",
       "      <td>6.0</td>\n",
       "      <td>477</td>\n",
       "      <td>43 rue Nationale</td>\n",
       "      <td>M</td>\n",
       "      <td>5051800.0</td>\n",
       "      <td>292500</td>\n",
       "      <td>590</td>\n",
       "    </tr>\n",
       "    <tr>\n",
       "      <th>4</th>\n",
       "      <td>2,01E+11</td>\n",
       "      <td>2010</td>\n",
       "      <td>10</td>\n",
       "      <td>25</td>\n",
       "      <td>1215</td>\n",
       "      <td>1</td>\n",
       "      <td>2</td>\n",
       "      <td>1</td>\n",
       "      <td>1.0</td>\n",
       "      <td>2.0</td>\n",
       "      <td>52</td>\n",
       "      <td>RUE GHESQUIERES</td>\n",
       "      <td>M</td>\n",
       "      <td>5050800.0</td>\n",
       "      <td>289700</td>\n",
       "      <td>590</td>\n",
       "    </tr>\n",
       "  </tbody>\n",
       "</table>\n",
       "</div>"
      ],
      "text/plain": [
       "    Num_Acc    an  mois  jour  hrmn  lum  agg  int  atm  col  com  \\\n",
       "0  2,01E+11  2010     6    12  1930    1    2    1  1.0  6.0   52   \n",
       "1  2,01E+11  2010     8     7  1000    1    2    1  1.0  6.0  477   \n",
       "2  2,01E+11  2010     9    11  1600    1    1    1  1.0  5.0   11   \n",
       "3  2,01E+11  2010     9    22  1630    1    2    1  1.0  6.0  477   \n",
       "4  2,01E+11  2010    10    25  1215    1    2    1  1.0  2.0   52   \n",
       "\n",
       "                  adr gps        lat    long  dep  \n",
       "0  71 RUE JEAN JAURES   M        0.0       0  590  \n",
       "1       Rue Nationale   M  5051600.0  292000  590  \n",
       "2                 NaN   M        0.0       0  590  \n",
       "3    43 rue Nationale   M  5051800.0  292500  590  \n",
       "4     RUE GHESQUIERES   M  5050800.0  289700  590  "
      ]
     },
     "execution_count": 7,
     "metadata": {},
     "output_type": "execute_result"
    }
   ],
   "source": [
    "caract.head()"
   ]
  },
  {
   "cell_type": "code",
   "execution_count": 12,
   "metadata": {
    "collapsed": true
   },
   "outputs": [],
   "source": [
    "caract[\"date\"] = caract[[\"an\", \"mois\", \"jour\"]].apply(lambda triple: datetime(year = triple[0], \n",
    "                                            month = triple[1], day = triple[2]), axis = 1)"
   ]
  },
  {
   "cell_type": "code",
   "execution_count": 13,
   "metadata": {},
   "outputs": [
    {
     "data": {
      "text/html": [
       "<div>\n",
       "<style>\n",
       "    .dataframe thead tr:only-child th {\n",
       "        text-align: right;\n",
       "    }\n",
       "\n",
       "    .dataframe thead th {\n",
       "        text-align: left;\n",
       "    }\n",
       "\n",
       "    .dataframe tbody tr th {\n",
       "        vertical-align: top;\n",
       "    }\n",
       "</style>\n",
       "<table border=\"1\" class=\"dataframe\">\n",
       "  <thead>\n",
       "    <tr style=\"text-align: right;\">\n",
       "      <th></th>\n",
       "      <th>Num_Acc</th>\n",
       "      <th>an</th>\n",
       "      <th>mois</th>\n",
       "      <th>jour</th>\n",
       "      <th>hrmn</th>\n",
       "      <th>lum</th>\n",
       "      <th>agg</th>\n",
       "      <th>int</th>\n",
       "      <th>atm</th>\n",
       "      <th>col</th>\n",
       "      <th>com</th>\n",
       "      <th>adr</th>\n",
       "      <th>gps</th>\n",
       "      <th>lat</th>\n",
       "      <th>long</th>\n",
       "      <th>dep</th>\n",
       "      <th>date</th>\n",
       "    </tr>\n",
       "  </thead>\n",
       "  <tbody>\n",
       "    <tr>\n",
       "      <th>0</th>\n",
       "      <td>2,01E+11</td>\n",
       "      <td>2010</td>\n",
       "      <td>6</td>\n",
       "      <td>12</td>\n",
       "      <td>1930</td>\n",
       "      <td>1</td>\n",
       "      <td>2</td>\n",
       "      <td>1</td>\n",
       "      <td>1.0</td>\n",
       "      <td>6.0</td>\n",
       "      <td>52</td>\n",
       "      <td>71 RUE JEAN JAURES</td>\n",
       "      <td>M</td>\n",
       "      <td>0.0</td>\n",
       "      <td>0</td>\n",
       "      <td>590</td>\n",
       "      <td>2010-06-12</td>\n",
       "    </tr>\n",
       "    <tr>\n",
       "      <th>1</th>\n",
       "      <td>2,01E+11</td>\n",
       "      <td>2010</td>\n",
       "      <td>8</td>\n",
       "      <td>7</td>\n",
       "      <td>1000</td>\n",
       "      <td>1</td>\n",
       "      <td>2</td>\n",
       "      <td>1</td>\n",
       "      <td>1.0</td>\n",
       "      <td>6.0</td>\n",
       "      <td>477</td>\n",
       "      <td>Rue Nationale</td>\n",
       "      <td>M</td>\n",
       "      <td>5051600.0</td>\n",
       "      <td>292000</td>\n",
       "      <td>590</td>\n",
       "      <td>2010-08-07</td>\n",
       "    </tr>\n",
       "    <tr>\n",
       "      <th>2</th>\n",
       "      <td>2,01E+11</td>\n",
       "      <td>2010</td>\n",
       "      <td>9</td>\n",
       "      <td>11</td>\n",
       "      <td>1600</td>\n",
       "      <td>1</td>\n",
       "      <td>1</td>\n",
       "      <td>1</td>\n",
       "      <td>1.0</td>\n",
       "      <td>5.0</td>\n",
       "      <td>11</td>\n",
       "      <td>NaN</td>\n",
       "      <td>M</td>\n",
       "      <td>0.0</td>\n",
       "      <td>0</td>\n",
       "      <td>590</td>\n",
       "      <td>2010-09-11</td>\n",
       "    </tr>\n",
       "    <tr>\n",
       "      <th>3</th>\n",
       "      <td>2,01E+11</td>\n",
       "      <td>2010</td>\n",
       "      <td>9</td>\n",
       "      <td>22</td>\n",
       "      <td>1630</td>\n",
       "      <td>1</td>\n",
       "      <td>2</td>\n",
       "      <td>1</td>\n",
       "      <td>1.0</td>\n",
       "      <td>6.0</td>\n",
       "      <td>477</td>\n",
       "      <td>43 rue Nationale</td>\n",
       "      <td>M</td>\n",
       "      <td>5051800.0</td>\n",
       "      <td>292500</td>\n",
       "      <td>590</td>\n",
       "      <td>2010-09-22</td>\n",
       "    </tr>\n",
       "    <tr>\n",
       "      <th>4</th>\n",
       "      <td>2,01E+11</td>\n",
       "      <td>2010</td>\n",
       "      <td>10</td>\n",
       "      <td>25</td>\n",
       "      <td>1215</td>\n",
       "      <td>1</td>\n",
       "      <td>2</td>\n",
       "      <td>1</td>\n",
       "      <td>1.0</td>\n",
       "      <td>2.0</td>\n",
       "      <td>52</td>\n",
       "      <td>RUE GHESQUIERES</td>\n",
       "      <td>M</td>\n",
       "      <td>5050800.0</td>\n",
       "      <td>289700</td>\n",
       "      <td>590</td>\n",
       "      <td>2010-10-25</td>\n",
       "    </tr>\n",
       "  </tbody>\n",
       "</table>\n",
       "</div>"
      ],
      "text/plain": [
       "    Num_Acc    an  mois  jour  hrmn  lum  agg  int  atm  col  com  \\\n",
       "0  2,01E+11  2010     6    12  1930    1    2    1  1.0  6.0   52   \n",
       "1  2,01E+11  2010     8     7  1000    1    2    1  1.0  6.0  477   \n",
       "2  2,01E+11  2010     9    11  1600    1    1    1  1.0  5.0   11   \n",
       "3  2,01E+11  2010     9    22  1630    1    2    1  1.0  6.0  477   \n",
       "4  2,01E+11  2010    10    25  1215    1    2    1  1.0  2.0   52   \n",
       "\n",
       "                  adr gps        lat    long  dep       date  \n",
       "0  71 RUE JEAN JAURES   M        0.0       0  590 2010-06-12  \n",
       "1       Rue Nationale   M  5051600.0  292000  590 2010-08-07  \n",
       "2                 NaN   M        0.0       0  590 2010-09-11  \n",
       "3    43 rue Nationale   M  5051800.0  292500  590 2010-09-22  \n",
       "4     RUE GHESQUIERES   M  5050800.0  289700  590 2010-10-25  "
      ]
     },
     "execution_count": 13,
     "metadata": {},
     "output_type": "execute_result"
    }
   ],
   "source": [
    "caract.head()"
   ]
  },
  {
   "cell_type": "code",
   "execution_count": 29,
   "metadata": {
    "collapsed": true
   },
   "outputs": [],
   "source": [
    "caract.to_csv(\"caract_2010_2016.csv\", encoding = \"utf-8\", sep = \",\", index = False)"
   ]
  },
  {
   "cell_type": "code",
   "execution_count": 12,
   "metadata": {},
   "outputs": [
    {
     "data": {
      "text/html": [
       "<div>\n",
       "<style>\n",
       "    .dataframe thead tr:only-child th {\n",
       "        text-align: right;\n",
       "    }\n",
       "\n",
       "    .dataframe thead th {\n",
       "        text-align: left;\n",
       "    }\n",
       "\n",
       "    .dataframe tbody tr th {\n",
       "        vertical-align: top;\n",
       "    }\n",
       "</style>\n",
       "<table border=\"1\" class=\"dataframe\">\n",
       "  <thead>\n",
       "    <tr style=\"text-align: right;\">\n",
       "      <th></th>\n",
       "      <th>Num_Acc</th>\n",
       "      <th>an</th>\n",
       "      <th>mois</th>\n",
       "      <th>jour</th>\n",
       "      <th>hrmn</th>\n",
       "      <th>lum</th>\n",
       "      <th>agg</th>\n",
       "      <th>int</th>\n",
       "      <th>atm</th>\n",
       "      <th>col</th>\n",
       "      <th>com</th>\n",
       "      <th>adr</th>\n",
       "      <th>gps</th>\n",
       "      <th>lat</th>\n",
       "      <th>long</th>\n",
       "      <th>dep</th>\n",
       "      <th>date</th>\n",
       "    </tr>\n",
       "  </thead>\n",
       "  <tbody>\n",
       "    <tr>\n",
       "      <th>0</th>\n",
       "      <td>2,01E+11</td>\n",
       "      <td>2010</td>\n",
       "      <td>6</td>\n",
       "      <td>12</td>\n",
       "      <td>1930</td>\n",
       "      <td>1</td>\n",
       "      <td>2</td>\n",
       "      <td>1</td>\n",
       "      <td>1.0</td>\n",
       "      <td>6.0</td>\n",
       "      <td>52</td>\n",
       "      <td>71 RUE JEAN JAURES</td>\n",
       "      <td>M</td>\n",
       "      <td>0.0</td>\n",
       "      <td>0</td>\n",
       "      <td>590</td>\n",
       "      <td>2010-06-12</td>\n",
       "    </tr>\n",
       "    <tr>\n",
       "      <th>1</th>\n",
       "      <td>2,01E+11</td>\n",
       "      <td>2010</td>\n",
       "      <td>8</td>\n",
       "      <td>7</td>\n",
       "      <td>1000</td>\n",
       "      <td>1</td>\n",
       "      <td>2</td>\n",
       "      <td>1</td>\n",
       "      <td>1.0</td>\n",
       "      <td>6.0</td>\n",
       "      <td>477</td>\n",
       "      <td>Rue Nationale</td>\n",
       "      <td>M</td>\n",
       "      <td>5051600.0</td>\n",
       "      <td>292000</td>\n",
       "      <td>590</td>\n",
       "      <td>2010-08-07</td>\n",
       "    </tr>\n",
       "    <tr>\n",
       "      <th>2</th>\n",
       "      <td>2,01E+11</td>\n",
       "      <td>2010</td>\n",
       "      <td>9</td>\n",
       "      <td>11</td>\n",
       "      <td>1600</td>\n",
       "      <td>1</td>\n",
       "      <td>1</td>\n",
       "      <td>1</td>\n",
       "      <td>1.0</td>\n",
       "      <td>5.0</td>\n",
       "      <td>11</td>\n",
       "      <td>NaN</td>\n",
       "      <td>M</td>\n",
       "      <td>0.0</td>\n",
       "      <td>0</td>\n",
       "      <td>590</td>\n",
       "      <td>2010-09-11</td>\n",
       "    </tr>\n",
       "    <tr>\n",
       "      <th>3</th>\n",
       "      <td>2,01E+11</td>\n",
       "      <td>2010</td>\n",
       "      <td>9</td>\n",
       "      <td>22</td>\n",
       "      <td>1630</td>\n",
       "      <td>1</td>\n",
       "      <td>2</td>\n",
       "      <td>1</td>\n",
       "      <td>1.0</td>\n",
       "      <td>6.0</td>\n",
       "      <td>477</td>\n",
       "      <td>43 rue Nationale</td>\n",
       "      <td>M</td>\n",
       "      <td>5051800.0</td>\n",
       "      <td>292500</td>\n",
       "      <td>590</td>\n",
       "      <td>2010-09-22</td>\n",
       "    </tr>\n",
       "    <tr>\n",
       "      <th>4</th>\n",
       "      <td>2,01E+11</td>\n",
       "      <td>2010</td>\n",
       "      <td>10</td>\n",
       "      <td>25</td>\n",
       "      <td>1215</td>\n",
       "      <td>1</td>\n",
       "      <td>2</td>\n",
       "      <td>1</td>\n",
       "      <td>1.0</td>\n",
       "      <td>2.0</td>\n",
       "      <td>52</td>\n",
       "      <td>RUE GHESQUIERES</td>\n",
       "      <td>M</td>\n",
       "      <td>5050800.0</td>\n",
       "      <td>289700</td>\n",
       "      <td>590</td>\n",
       "      <td>2010-10-25</td>\n",
       "    </tr>\n",
       "  </tbody>\n",
       "</table>\n",
       "</div>"
      ],
      "text/plain": [
       "    Num_Acc    an  mois  jour  hrmn  lum  agg  int  atm  col  com  \\\n",
       "0  2,01E+11  2010     6    12  1930    1    2    1  1.0  6.0   52   \n",
       "1  2,01E+11  2010     8     7  1000    1    2    1  1.0  6.0  477   \n",
       "2  2,01E+11  2010     9    11  1600    1    1    1  1.0  5.0   11   \n",
       "3  2,01E+11  2010     9    22  1630    1    2    1  1.0  6.0  477   \n",
       "4  2,01E+11  2010    10    25  1215    1    2    1  1.0  2.0   52   \n",
       "\n",
       "                  adr gps        lat    long  dep        date  \n",
       "0  71 RUE JEAN JAURES   M        0.0       0  590  2010-06-12  \n",
       "1       Rue Nationale   M  5051600.0  292000  590  2010-08-07  \n",
       "2                 NaN   M        0.0       0  590  2010-09-11  \n",
       "3    43 rue Nationale   M  5051800.0  292500  590  2010-09-22  \n",
       "4     RUE GHESQUIERES   M  5050800.0  289700  590  2010-10-25  "
      ]
     },
     "execution_count": 12,
     "metadata": {},
     "output_type": "execute_result"
    }
   ],
   "source": [
    "caract.head()"
   ]
  },
  {
   "cell_type": "code",
   "execution_count": 9,
   "metadata": {},
   "outputs": [
    {
     "name": "stderr",
     "output_type": "stream",
     "text": [
      "C:\\Users\\mgdjohossou\\AppData\\Local\\Continuum\\anaconda3\\lib\\site-packages\\IPython\\core\\interactiveshell.py:2698: DtypeWarning: Columns (14) have mixed types. Specify dtype option on import or set low_memory=False.\n",
      "  interactivity=interactivity, compiler=compiler, result=result)\n"
     ]
    }
   ],
   "source": [
    "caract = pd.read_csv(\"caract_2010_2016.csv\")"
   ]
  },
  {
   "cell_type": "code",
   "execution_count": 20,
   "metadata": {},
   "outputs": [
    {
     "data": {
      "text/plain": [
       "(208528, 17)"
      ]
     },
     "execution_count": 20,
     "metadata": {},
     "output_type": "execute_result"
    }
   ],
   "source": [
    "caract.shape"
   ]
  },
  {
   "cell_type": "code",
   "execution_count": 5,
   "metadata": {
    "collapsed": true
   },
   "outputs": [],
   "source": [
    "tmp2 = tmp.head(1000)"
   ]
  },
  {
   "cell_type": "code",
   "execution_count": 6,
   "metadata": {
    "collapsed": true
   },
   "outputs": [],
   "source": [
    "tmp2.to_csv(\"tmp2.tsv\", encoding = \"utf-8\", sep = \"\\t\", index = False)"
   ]
  },
  {
   "cell_type": "code",
   "execution_count": 21,
   "metadata": {
    "collapsed": true
   },
   "outputs": [],
   "source": [
    "subDf, remainingDf = train_test_split(caract, test_size = 0.9, random_state = 42, stratify = caract[\"an\"])"
   ]
  },
  {
   "cell_type": "code",
   "execution_count": 32,
   "metadata": {},
   "outputs": [
    {
     "data": {
      "text/plain": [
       "2010    6936\n",
       "2012    3405\n",
       "2015    3191\n",
       "2013    2996\n",
       "2011    2547\n",
       "2016     928\n",
       "2014     849\n",
       "Name: an, dtype: int64"
      ]
     },
     "execution_count": 32,
     "metadata": {},
     "output_type": "execute_result"
    }
   ],
   "source": [
    "subDf[\"an\"].value_counts()"
   ]
  },
  {
   "cell_type": "code",
   "execution_count": 24,
   "metadata": {
    "collapsed": true
   },
   "outputs": [],
   "source": [
    "subDf.to_csv(\"sub_caract_2010_2016.csv\", encoding = \"utf-8\", sep = \",\", index = False)"
   ]
  },
  {
   "cell_type": "code",
   "execution_count": 33,
   "metadata": {
    "collapsed": true
   },
   "outputs": [],
   "source": [
    "subDf2, remainingDf2 = train_test_split(caract, test_size = 0.95, random_state = 42, stratify = caract[\"an\"])"
   ]
  },
  {
   "cell_type": "code",
   "execution_count": 34,
   "metadata": {
    "collapsed": true
   },
   "outputs": [],
   "source": [
    "subDf2.to_csv(\"sub2_caract_2010_2016.csv\", encoding = \"utf-8\", sep = \",\", index = False)"
   ]
  },
  {
   "cell_type": "code",
   "execution_count": null,
   "metadata": {
    "collapsed": true
   },
   "outputs": [],
   "source": []
  },
  {
   "cell_type": "markdown",
   "metadata": {},
   "source": [
    "06/04/2018"
   ]
  },
  {
   "cell_type": "code",
   "execution_count": 2,
   "metadata": {
    "collapsed": true
   },
   "outputs": [],
   "source": [
    "temp = pd.read_csv(\"sub2_caract_2010_2016.csv\")"
   ]
  },
  {
   "cell_type": "code",
   "execution_count": 68,
   "metadata": {
    "collapsed": true
   },
   "outputs": [],
   "source": [
    "def convertFromIntegerToMonthName(theInt):\n",
    "    d = {1: \"janvier\", 2: \"fevrier\", 3: \"mars\", 4: \"avril\", 5: \"mai\", 6: \"juin\", 7: \"juillet\", 8: \"août\", \n",
    "         9: \"septembre\", 10: \"octobre\", 11: \"novembre\", 12: \"decembre\"}\n",
    "    return d[theInt]"
   ]
  },
  {
   "cell_type": "code",
   "execution_count": 7,
   "metadata": {
    "collapsed": true
   },
   "outputs": [],
   "source": [
    "temp[\"nom_mois\"] = temp[\"mois\"].apply(lambda unMois: convertFromIntegerToMonthName(unMois))"
   ]
  },
  {
   "cell_type": "code",
   "execution_count": 11,
   "metadata": {
    "collapsed": true
   },
   "outputs": [],
   "source": [
    "temp.to_csv(\"sub2_caract_2010_2016.csv\", encoding = \"utf-8\", sep = \",\", index = False)"
   ]
  },
  {
   "cell_type": "code",
   "execution_count": 12,
   "metadata": {},
   "outputs": [
    {
     "data": {
      "text/html": [
       "<div>\n",
       "<style>\n",
       "    .dataframe thead tr:only-child th {\n",
       "        text-align: right;\n",
       "    }\n",
       "\n",
       "    .dataframe thead th {\n",
       "        text-align: left;\n",
       "    }\n",
       "\n",
       "    .dataframe tbody tr th {\n",
       "        vertical-align: top;\n",
       "    }\n",
       "</style>\n",
       "<table border=\"1\" class=\"dataframe\">\n",
       "  <thead>\n",
       "    <tr style=\"text-align: right;\">\n",
       "      <th></th>\n",
       "      <th>Num_Acc</th>\n",
       "      <th>an</th>\n",
       "      <th>mois</th>\n",
       "      <th>jour</th>\n",
       "      <th>hrmn</th>\n",
       "      <th>lum</th>\n",
       "      <th>agg</th>\n",
       "      <th>int</th>\n",
       "      <th>atm</th>\n",
       "      <th>col</th>\n",
       "      <th>com</th>\n",
       "      <th>adr</th>\n",
       "      <th>gps</th>\n",
       "      <th>lat</th>\n",
       "      <th>long</th>\n",
       "      <th>dep</th>\n",
       "      <th>date</th>\n",
       "      <th>nom_mois</th>\n",
       "    </tr>\n",
       "  </thead>\n",
       "  <tbody>\n",
       "    <tr>\n",
       "      <th>0</th>\n",
       "      <td>2,01E+11</td>\n",
       "      <td>2010</td>\n",
       "      <td>10</td>\n",
       "      <td>28</td>\n",
       "      <td>2015</td>\n",
       "      <td>5</td>\n",
       "      <td>2</td>\n",
       "      <td>1</td>\n",
       "      <td>1.0</td>\n",
       "      <td>6.0</td>\n",
       "      <td>181</td>\n",
       "      <td>5 route de FONTENAY</td>\n",
       "      <td>M</td>\n",
       "      <td>0.0</td>\n",
       "      <td>0.0</td>\n",
       "      <td>850</td>\n",
       "      <td>2010-10-28</td>\n",
       "      <td>octobre</td>\n",
       "    </tr>\n",
       "    <tr>\n",
       "      <th>1</th>\n",
       "      <td>2,01E+11</td>\n",
       "      <td>2010</td>\n",
       "      <td>6</td>\n",
       "      <td>26</td>\n",
       "      <td>1745</td>\n",
       "      <td>1</td>\n",
       "      <td>2</td>\n",
       "      <td>1</td>\n",
       "      <td>1.0</td>\n",
       "      <td>3.0</td>\n",
       "      <td>58</td>\n",
       "      <td>SANS N, URTIN AVENUE MAR</td>\n",
       "      <td>M</td>\n",
       "      <td>4494410.0</td>\n",
       "      <td>489510.0</td>\n",
       "      <td>260</td>\n",
       "      <td>2010-06-26</td>\n",
       "      <td>juin</td>\n",
       "    </tr>\n",
       "    <tr>\n",
       "      <th>2</th>\n",
       "      <td>2,013E+11</td>\n",
       "      <td>2013</td>\n",
       "      <td>9</td>\n",
       "      <td>3</td>\n",
       "      <td>1545</td>\n",
       "      <td>1</td>\n",
       "      <td>2</td>\n",
       "      <td>6</td>\n",
       "      <td>1.0</td>\n",
       "      <td>3.0</td>\n",
       "      <td>36</td>\n",
       "      <td>Hameau Cartels du Bosc</td>\n",
       "      <td>M</td>\n",
       "      <td>4368800.0</td>\n",
       "      <td>335900.0</td>\n",
       "      <td>340</td>\n",
       "      <td>2013-09-03</td>\n",
       "      <td>septembre</td>\n",
       "    </tr>\n",
       "    <tr>\n",
       "      <th>3</th>\n",
       "      <td>2,014E+11</td>\n",
       "      <td>2014</td>\n",
       "      <td>3</td>\n",
       "      <td>13</td>\n",
       "      <td>1915</td>\n",
       "      <td>3</td>\n",
       "      <td>1</td>\n",
       "      <td>1</td>\n",
       "      <td>5.0</td>\n",
       "      <td>3.0</td>\n",
       "      <td>70</td>\n",
       "      <td>NaN</td>\n",
       "      <td>M</td>\n",
       "      <td>5038774.0</td>\n",
       "      <td>245905.0</td>\n",
       "      <td>620</td>\n",
       "      <td>2014-03-13</td>\n",
       "      <td>mars</td>\n",
       "    </tr>\n",
       "    <tr>\n",
       "      <th>4</th>\n",
       "      <td>2,01E+11</td>\n",
       "      <td>2010</td>\n",
       "      <td>8</td>\n",
       "      <td>2</td>\n",
       "      <td>2115</td>\n",
       "      <td>1</td>\n",
       "      <td>2</td>\n",
       "      <td>1</td>\n",
       "      <td>1.0</td>\n",
       "      <td>6.0</td>\n",
       "      <td>66</td>\n",
       "      <td>face 31, FRANCE ANATOLE</td>\n",
       "      <td>NaN</td>\n",
       "      <td>NaN</td>\n",
       "      <td>NaN</td>\n",
       "      <td>930</td>\n",
       "      <td>2010-08-02</td>\n",
       "      <td>août</td>\n",
       "    </tr>\n",
       "  </tbody>\n",
       "</table>\n",
       "</div>"
      ],
      "text/plain": [
       "     Num_Acc    an  mois  jour  hrmn  lum  agg  int  atm  col  com  \\\n",
       "0   2,01E+11  2010    10    28  2015    5    2    1  1.0  6.0  181   \n",
       "1   2,01E+11  2010     6    26  1745    1    2    1  1.0  3.0   58   \n",
       "2  2,013E+11  2013     9     3  1545    1    2    6  1.0  3.0   36   \n",
       "3  2,014E+11  2014     3    13  1915    3    1    1  5.0  3.0   70   \n",
       "4   2,01E+11  2010     8     2  2115    1    2    1  1.0  6.0   66   \n",
       "\n",
       "                        adr  gps        lat      long  dep        date  \\\n",
       "0       5 route de FONTENAY    M        0.0       0.0  850  2010-10-28   \n",
       "1  SANS N, URTIN AVENUE MAR    M  4494410.0  489510.0  260  2010-06-26   \n",
       "2    Hameau Cartels du Bosc    M  4368800.0  335900.0  340  2013-09-03   \n",
       "3                       NaN    M  5038774.0  245905.0  620  2014-03-13   \n",
       "4   face 31, FRANCE ANATOLE  NaN        NaN       NaN  930  2010-08-02   \n",
       "\n",
       "    nom_mois  \n",
       "0    octobre  \n",
       "1       juin  \n",
       "2  septembre  \n",
       "3       mars  \n",
       "4       août  "
      ]
     },
     "execution_count": 12,
     "metadata": {},
     "output_type": "execute_result"
    }
   ],
   "source": [
    "temp.head()"
   ]
  },
  {
   "cell_type": "code",
   "execution_count": null,
   "metadata": {
    "collapsed": true
   },
   "outputs": [],
   "source": []
  },
  {
   "cell_type": "markdown",
   "metadata": {},
   "source": [
    "08/04/2018"
   ]
  },
  {
   "cell_type": "code",
   "execution_count": 11,
   "metadata": {
    "collapsed": true
   },
   "outputs": [],
   "source": [
    "donneesAgregees20052016 = pd.read_csv(\"donnees_agregees_2005_2010.csv\", sep = \",\", encoding = \"latin_1\", nrows = 10)"
   ]
  },
  {
   "cell_type": "code",
   "execution_count": 17,
   "metadata": {},
   "outputs": [
    {
     "data": {
      "text/plain": [
       "Index(['org', 'com', 'gps', 'lat', 'long', 'dep', 'catr', 'voie', 'v1', 'v2',\n",
       "       'pr', 'pr1', 'ttue', 'tbg', 'tbl', 'tindm', 'typenumero', 'numero',\n",
       "       'distancemetre', 'libellevoie', 'coderivoli', 'grav'],\n",
       "      dtype='object')"
      ]
     },
     "execution_count": 17,
     "metadata": {},
     "output_type": "execute_result"
    }
   ],
   "source": [
    "donneesAgregees20052016.columns"
   ]
  },
  {
   "cell_type": "code",
   "execution_count": 19,
   "metadata": {},
   "outputs": [
    {
     "data": {
      "text/plain": [
       "(59432, 16)"
      ]
     },
     "execution_count": 19,
     "metadata": {},
     "output_type": "execute_result"
    }
   ],
   "source": [
    "allCaract.shape"
   ]
  },
  {
   "cell_type": "code",
   "execution_count": 54,
   "metadata": {
    "collapsed": true
   },
   "outputs": [],
   "source": [
    "names = [\"date\", \"nb_tues\", \"col3\"]\n",
    "dtypes = {\"date\": str, \"nb_tues\": np.int64, \"col3\": np.int64}"
   ]
  },
  {
   "cell_type": "code",
   "execution_count": 19,
   "metadata": {
    "collapsed": true
   },
   "outputs": [],
   "source": [
    "nbTues19722016 = pd.read_csv(\"nb_tues_1972_2016.csv\", sep = \";\", header = None)"
   ]
  },
  {
   "cell_type": "code",
   "execution_count": 41,
   "metadata": {},
   "outputs": [],
   "source": [
    "nbTues19722016.to_csv(\"nb_tues_1972_2016_2.csv\", sep = \",\", encoding = \"utf-8\", index = False, header = None)"
   ]
  },
  {
   "cell_type": "code",
   "execution_count": 42,
   "metadata": {},
   "outputs": [],
   "source": [
    "nbTues19722016_2 = pd.read_csv(\"nb_tues_1972_2016_2.csv\", sep = \",\", header = None)"
   ]
  },
  {
   "cell_type": "code",
   "execution_count": 43,
   "metadata": {},
   "outputs": [
    {
     "data": {
      "text/html": [
       "<div>\n",
       "<style>\n",
       "    .dataframe thead tr:only-child th {\n",
       "        text-align: right;\n",
       "    }\n",
       "\n",
       "    .dataframe thead th {\n",
       "        text-align: left;\n",
       "    }\n",
       "\n",
       "    .dataframe tbody tr th {\n",
       "        vertical-align: top;\n",
       "    }\n",
       "</style>\n",
       "<table border=\"1\" class=\"dataframe\">\n",
       "  <thead>\n",
       "    <tr style=\"text-align: right;\">\n",
       "      <th></th>\n",
       "      <th>0</th>\n",
       "      <th>1</th>\n",
       "      <th>2</th>\n",
       "    </tr>\n",
       "  </thead>\n",
       "  <tbody>\n",
       "    <tr>\n",
       "      <th>0</th>\n",
       "      <td>janv-72</td>\n",
       "      <td>1343.0</td>\n",
       "      <td>17496.0</td>\n",
       "    </tr>\n",
       "    <tr>\n",
       "      <th>1</th>\n",
       "      <td>févr-72</td>\n",
       "      <td>1140.0</td>\n",
       "      <td>17626.0</td>\n",
       "    </tr>\n",
       "    <tr>\n",
       "      <th>2</th>\n",
       "      <td>mars-72</td>\n",
       "      <td>1335.0</td>\n",
       "      <td>17891.0</td>\n",
       "    </tr>\n",
       "    <tr>\n",
       "      <th>3</th>\n",
       "      <td>avr-72</td>\n",
       "      <td>1281.0</td>\n",
       "      <td>17888.0</td>\n",
       "    </tr>\n",
       "    <tr>\n",
       "      <th>4</th>\n",
       "      <td>mai-72</td>\n",
       "      <td>1460.0</td>\n",
       "      <td>17884.0</td>\n",
       "    </tr>\n",
       "  </tbody>\n",
       "</table>\n",
       "</div>"
      ],
      "text/plain": [
       "         0       1        2\n",
       "0  janv-72  1343.0  17496.0\n",
       "1  févr-72  1140.0  17626.0\n",
       "2  mars-72  1335.0  17891.0\n",
       "3   avr-72  1281.0  17888.0\n",
       "4   mai-72  1460.0  17884.0"
      ]
     },
     "execution_count": 43,
     "metadata": {},
     "output_type": "execute_result"
    }
   ],
   "source": [
    "nbTues19722016_2.head()"
   ]
  },
  {
   "cell_type": "code",
   "execution_count": 28,
   "metadata": {},
   "outputs": [
    {
     "data": {
      "text/plain": [
       "0     object\n",
       "1    float64\n",
       "2    float64\n",
       "dtype: object"
      ]
     },
     "execution_count": 28,
     "metadata": {},
     "output_type": "execute_result"
    }
   ],
   "source": [
    "nbTues19722016.dtypes"
   ]
  },
  {
   "cell_type": "code",
   "execution_count": 53,
   "metadata": {
    "collapsed": true
   },
   "outputs": [],
   "source": [
    "def correctMonthName(monthName):\n",
    "    d = {\"janv\": \"jan\", \"févr\": \"feb\", \"mars\": \"mar\", \"avr\": \"apr\", \"mai\": \"may\", \"juin\": \"jun\", \"juil\": \"jul\",\n",
    "        \"août\": \"aug\", \"sept\": \"sep\", \"oct\": \"oct\", \"nov\": \"nov\", \"déc\": \"dec\"}\n",
    "    return d[monthName]"
   ]
  },
  {
   "cell_type": "code",
   "execution_count": 6,
   "metadata": {
    "collapsed": true
   },
   "outputs": [],
   "source": [
    "nbTues19722016.columns = [\"date\", \"nb_tues\", \"col3\"]"
   ]
  },
  {
   "cell_type": "code",
   "execution_count": 45,
   "metadata": {},
   "outputs": [],
   "source": [
    "nbTues19722016_2.columns = [\"date\", \"nb_tues\", \"col3\"]"
   ]
  },
  {
   "cell_type": "code",
   "execution_count": 7,
   "metadata": {
    "collapsed": true
   },
   "outputs": [],
   "source": [
    "nbTues19722016WNA = nbTues19722016.copy().dropna(subset = [\"date\"])"
   ]
  },
  {
   "cell_type": "code",
   "execution_count": 46,
   "metadata": {},
   "outputs": [],
   "source": [
    "nbTues19722016_2WNA = nbTues19722016_2.copy().dropna(subset = [\"date\"])"
   ]
  },
  {
   "cell_type": "code",
   "execution_count": 21,
   "metadata": {},
   "outputs": [
    {
     "data": {
      "text/html": [
       "<div>\n",
       "<style>\n",
       "    .dataframe thead tr:only-child th {\n",
       "        text-align: right;\n",
       "    }\n",
       "\n",
       "    .dataframe thead th {\n",
       "        text-align: left;\n",
       "    }\n",
       "\n",
       "    .dataframe tbody tr th {\n",
       "        vertical-align: top;\n",
       "    }\n",
       "</style>\n",
       "<table border=\"1\" class=\"dataframe\">\n",
       "  <thead>\n",
       "    <tr style=\"text-align: right;\">\n",
       "      <th></th>\n",
       "      <th>date</th>\n",
       "      <th>nb_tues</th>\n",
       "      <th>col3</th>\n",
       "      <th>an</th>\n",
       "      <th>mois</th>\n",
       "    </tr>\n",
       "  </thead>\n",
       "  <tbody>\n",
       "    <tr>\n",
       "      <th>0</th>\n",
       "      <td>janv-72</td>\n",
       "      <td>1343.0</td>\n",
       "      <td>17496.0</td>\n",
       "      <td>72</td>\n",
       "      <td>janv</td>\n",
       "    </tr>\n",
       "    <tr>\n",
       "      <th>1</th>\n",
       "      <td>févr-72</td>\n",
       "      <td>1140.0</td>\n",
       "      <td>17626.0</td>\n",
       "      <td>72</td>\n",
       "      <td>févr</td>\n",
       "    </tr>\n",
       "    <tr>\n",
       "      <th>2</th>\n",
       "      <td>mars-72</td>\n",
       "      <td>1335.0</td>\n",
       "      <td>17891.0</td>\n",
       "      <td>72</td>\n",
       "      <td>mars</td>\n",
       "    </tr>\n",
       "    <tr>\n",
       "      <th>3</th>\n",
       "      <td>avr-72</td>\n",
       "      <td>1281.0</td>\n",
       "      <td>17888.0</td>\n",
       "      <td>72</td>\n",
       "      <td>avr</td>\n",
       "    </tr>\n",
       "    <tr>\n",
       "      <th>4</th>\n",
       "      <td>mai-72</td>\n",
       "      <td>1460.0</td>\n",
       "      <td>17884.0</td>\n",
       "      <td>72</td>\n",
       "      <td>mai</td>\n",
       "    </tr>\n",
       "  </tbody>\n",
       "</table>\n",
       "</div>"
      ],
      "text/plain": [
       "      date  nb_tues     col3  an  mois\n",
       "0  janv-72   1343.0  17496.0  72  janv\n",
       "1  févr-72   1140.0  17626.0  72  févr\n",
       "2  mars-72   1335.0  17891.0  72  mars\n",
       "3   avr-72   1281.0  17888.0  72   avr\n",
       "4   mai-72   1460.0  17884.0  72   mai"
      ]
     },
     "execution_count": 21,
     "metadata": {},
     "output_type": "execute_result"
    }
   ],
   "source": [
    "nbTues19722016WNA.head()"
   ]
  },
  {
   "cell_type": "code",
   "execution_count": 8,
   "metadata": {
    "collapsed": true
   },
   "outputs": [],
   "source": [
    "nbTues19722016WNA[\"an\"] = nbTues19722016WNA[\"date\"].apply(lambda date: date.split(\"-\")[1])"
   ]
  },
  {
   "cell_type": "code",
   "execution_count": 50,
   "metadata": {},
   "outputs": [],
   "source": [
    "nbTues19722016_2WNA[\"an\"] = nbTues19722016_2WNA[\"date\"].apply(lambda date: datetime.strptime(\n",
    "    date.split(\"-\")[1], \"%y\").year)"
   ]
  },
  {
   "cell_type": "code",
   "execution_count": 51,
   "metadata": {},
   "outputs": [
    {
     "data": {
      "text/plain": [
       "array([1972, 1973, 1974, 1975, 1976, 1977, 1978, 1979, 1980, 1981, 1982,\n",
       "       1983, 1984, 1985, 1986, 1987, 1988, 1989, 1990, 1991, 1992, 1993,\n",
       "       1994, 1995, 1996, 1997, 1998, 1999, 2000, 2001, 2002, 2003, 2004,\n",
       "       2005, 2006, 2007, 2008, 2009, 2010, 2011, 2012, 2013, 2014, 2015,\n",
       "       2016], dtype=int64)"
      ]
     },
     "execution_count": 51,
     "metadata": {},
     "output_type": "execute_result"
    }
   ],
   "source": [
    "nbTues19722016_2WNA[\"an\"].unique()"
   ]
  },
  {
   "cell_type": "code",
   "execution_count": null,
   "metadata": {
    "collapsed": true
   },
   "outputs": [],
   "source": []
  },
  {
   "cell_type": "code",
   "execution_count": 54,
   "metadata": {},
   "outputs": [],
   "source": [
    "nbTues19722016_2WNA[\"mois\"] = nbTues19722016_2WNA[\"date\"].apply(lambda date: datetime.strptime(correctMonthName(date.split(\"-\")[0]) , \n",
    "                                                        \"%b\").month)"
   ]
  },
  {
   "cell_type": "code",
   "execution_count": 55,
   "metadata": {},
   "outputs": [
    {
     "data": {
      "text/plain": [
       "array([ 1,  2,  3,  4,  5,  6,  7,  8,  9, 10, 11, 12], dtype=int64)"
      ]
     },
     "execution_count": 55,
     "metadata": {},
     "output_type": "execute_result"
    }
   ],
   "source": [
    "nbTues19722016_2WNA[\"mois\"].unique()"
   ]
  },
  {
   "cell_type": "code",
   "execution_count": 56,
   "metadata": {
    "collapsed": true
   },
   "outputs": [],
   "source": [
    "nbTues19722016_2WNA.to_csv(\"nb_tues_1972_2016_2.csv\", sep = \",\", encoding = \"utf-8\", index = False, header = None)"
   ]
  },
  {
   "cell_type": "code",
   "execution_count": 70,
   "metadata": {
    "collapsed": true
   },
   "outputs": [],
   "source": [
    "nbTues19722016_2WNA.to_csv(\"nb_tues_1972_2016_2.csv\", sep = \",\", encoding = \"utf-8\", index = False)"
   ]
  },
  {
   "cell_type": "code",
   "execution_count": 66,
   "metadata": {
    "collapsed": true
   },
   "outputs": [],
   "source": [
    "nbTues19722016_2WNA = pd.read_csv(\"nb_tues_1972_2016_2.csv\", sep = \",\", header = 0)"
   ]
  },
  {
   "cell_type": "code",
   "execution_count": 64,
   "metadata": {
    "collapsed": true
   },
   "outputs": [],
   "source": [
    "nbTues19722016_2WNA.columns = [\"date\", \"nb_tues\", \"col3\", \"an\", \"mois\"]"
   ]
  },
  {
   "cell_type": "code",
   "execution_count": 67,
   "metadata": {},
   "outputs": [
    {
     "data": {
      "text/html": [
       "<div>\n",
       "<style>\n",
       "    .dataframe thead tr:only-child th {\n",
       "        text-align: right;\n",
       "    }\n",
       "\n",
       "    .dataframe thead th {\n",
       "        text-align: left;\n",
       "    }\n",
       "\n",
       "    .dataframe tbody tr th {\n",
       "        vertical-align: top;\n",
       "    }\n",
       "</style>\n",
       "<table border=\"1\" class=\"dataframe\">\n",
       "  <thead>\n",
       "    <tr style=\"text-align: right;\">\n",
       "      <th></th>\n",
       "      <th>date</th>\n",
       "      <th>nb_tues</th>\n",
       "      <th>col3</th>\n",
       "      <th>an</th>\n",
       "      <th>mois</th>\n",
       "    </tr>\n",
       "  </thead>\n",
       "  <tbody>\n",
       "    <tr>\n",
       "      <th>0</th>\n",
       "      <td>janv-72</td>\n",
       "      <td>1343.0</td>\n",
       "      <td>17496.0</td>\n",
       "      <td>1972</td>\n",
       "      <td>1</td>\n",
       "    </tr>\n",
       "    <tr>\n",
       "      <th>1</th>\n",
       "      <td>févr-72</td>\n",
       "      <td>1140.0</td>\n",
       "      <td>17626.0</td>\n",
       "      <td>1972</td>\n",
       "      <td>2</td>\n",
       "    </tr>\n",
       "    <tr>\n",
       "      <th>2</th>\n",
       "      <td>mars-72</td>\n",
       "      <td>1335.0</td>\n",
       "      <td>17891.0</td>\n",
       "      <td>1972</td>\n",
       "      <td>3</td>\n",
       "    </tr>\n",
       "    <tr>\n",
       "      <th>3</th>\n",
       "      <td>avr-72</td>\n",
       "      <td>1281.0</td>\n",
       "      <td>17888.0</td>\n",
       "      <td>1972</td>\n",
       "      <td>4</td>\n",
       "    </tr>\n",
       "    <tr>\n",
       "      <th>4</th>\n",
       "      <td>mai-72</td>\n",
       "      <td>1460.0</td>\n",
       "      <td>17884.0</td>\n",
       "      <td>1972</td>\n",
       "      <td>5</td>\n",
       "    </tr>\n",
       "  </tbody>\n",
       "</table>\n",
       "</div>"
      ],
      "text/plain": [
       "      date  nb_tues     col3    an  mois\n",
       "0  janv-72   1343.0  17496.0  1972     1\n",
       "1  févr-72   1140.0  17626.0  1972     2\n",
       "2  mars-72   1335.0  17891.0  1972     3\n",
       "3   avr-72   1281.0  17888.0  1972     4\n",
       "4   mai-72   1460.0  17884.0  1972     5"
      ]
     },
     "execution_count": 67,
     "metadata": {},
     "output_type": "execute_result"
    }
   ],
   "source": [
    "nbTues19722016_2WNA.head()"
   ]
  },
  {
   "cell_type": "code",
   "execution_count": 69,
   "metadata": {
    "collapsed": true
   },
   "outputs": [],
   "source": [
    "nbTues19722016_2WNA[\"mois\"] = nbTues19722016_2WNA[\"mois\"].apply(lambda mois: convertFromIntegerToMonthName(mois))"
   ]
  },
  {
   "cell_type": "code",
   "execution_count": 9,
   "metadata": {
    "collapsed": true
   },
   "outputs": [],
   "source": [
    "nbTuesParAn = nbTues19722016WNA[[\"an\", \"nb_tues\"]].groupby(\"an\").apply(lambda group: group[\"nb_tues\"].sum())"
   ]
  },
  {
   "cell_type": "code",
   "execution_count": 10,
   "metadata": {
    "collapsed": true
   },
   "outputs": [],
   "source": [
    "nbTuesParAn.index = list(map(lambda y: datetime.strptime(y, \"%y\").year, nbTuesParAn.index))"
   ]
  },
  {
   "cell_type": "code",
   "execution_count": 11,
   "metadata": {
    "collapsed": true
   },
   "outputs": [],
   "source": [
    "nbTuesParAn = nbTuesParAn.sort_index()"
   ]
  },
  {
   "cell_type": "code",
   "execution_count": 12,
   "metadata": {},
   "outputs": [
    {
     "data": {
      "text/plain": [
       "<matplotlib.axes._subplots.AxesSubplot at 0xb937208>"
      ]
     },
     "execution_count": 12,
     "metadata": {},
     "output_type": "execute_result"
    },
    {
     "data": {
      "image/png": "[encoded data removed]",
      "text/plain": [
       "<matplotlib.figure.Figure at 0xb937198>"
      ]
     },
     "metadata": {},
     "output_type": "display_data"
    }
   ],
   "source": [
    "plt.figure(figsize = (16, 6))\n",
    "plt.ylim(ymin = nbTuesParAn.min() - 1000, ymax = nbTuesParAn.max() + 1000)\n",
    "nbTuesParAn.plot()"
   ]
  },
  {
   "cell_type": "markdown",
   "metadata": {},
   "source": [
    "** Histoire: La mortalité par accidents est décroissante **"
   ]
  },
  {
   "cell_type": "code",
   "execution_count": 13,
   "metadata": {
    "collapsed": true
   },
   "outputs": [],
   "source": [
    "nbTuesGrowthParAn = (np.array(nbTuesParAn[1:]) / np.array(nbTuesParAn[:-1]) - 1) * 100"
   ]
  },
  {
   "cell_type": "code",
   "execution_count": 14,
   "metadata": {
    "collapsed": true
   },
   "outputs": [],
   "source": [
    "nbTuesGrowthParAn = pd.Series(nbTuesGrowthParAn, index = np.array(nbTuesParAn.index)[1:]) "
   ]
  },
  {
   "cell_type": "code",
   "execution_count": 15,
   "metadata": {},
   "outputs": [
    {
     "data": {
      "text/plain": [
       "<matplotlib.axes._subplots.AxesSubplot at 0xbc27160>"
      ]
     },
     "execution_count": 15,
     "metadata": {},
     "output_type": "execute_result"
    },
    {
     "data": {
      "image/png": "[encoded data removed]",
      "text/plain": [
       "<matplotlib.figure.Figure at 0xbc272b0>"
      ]
     },
     "metadata": {},
     "output_type": "display_data"
    }
   ],
   "source": [
    "plt.figure(figsize = (16, 6))\n",
    "plt.ylim(ymin = nbTuesGrowthParAn.min() - 10, ymax = nbTuesGrowthParAn.max() + 10)\n",
    "nbTuesGrowthParAn.plot()"
   ]
  },
  {
   "cell_type": "markdown",
   "metadata": {},
   "source": [
    "** Histoire: Le taux de décroissance de la mortalité par accidents semble constant -5% **"
   ]
  },
  {
   "cell_type": "code",
   "execution_count": 16,
   "metadata": {
    "collapsed": true
   },
   "outputs": [],
   "source": [
    "nbTues19722016WNA[\"mois\"] = nbTues19722016WNA[\"date\"].apply(lambda date: date.split(\"-\")[0])"
   ]
  },
  {
   "cell_type": "code",
   "execution_count": 17,
   "metadata": {
    "collapsed": true
   },
   "outputs": [],
   "source": [
    "nbTuesParMois = nbTues19722016WNA[[\"mois\", \"nb_tues\"]].groupby(\"mois\").apply(lambda group: group[\"nb_tues\"].sum())"
   ]
  },
  {
   "cell_type": "code",
   "execution_count": 18,
   "metadata": {},
   "outputs": [
    {
     "data": {
      "text/plain": [
       "8"
      ]
     },
     "execution_count": 18,
     "metadata": {},
     "output_type": "execute_result"
    }
   ],
   "source": [
    "datetime.strptime(correctMonthName(\"août\") , \"%b\").month"
   ]
  },
  {
   "cell_type": "code",
   "execution_count": 19,
   "metadata": {
    "collapsed": true
   },
   "outputs": [],
   "source": [
    "nbTuesParMois.index = list(map(lambda m: datetime.strptime(correctMonthName(m) , \"%b\").month, \n",
    "                               nbTuesParMois.index))"
   ]
  },
  {
   "cell_type": "code",
   "execution_count": 20,
   "metadata": {
    "collapsed": true
   },
   "outputs": [],
   "source": [
    "nbTuesParMois = nbTuesParMois.sort_index()"
   ]
  },
  {
   "cell_type": "code",
   "execution_count": 22,
   "metadata": {},
   "outputs": [
    {
     "data": {
      "text/plain": [
       "<matplotlib.axes._subplots.AxesSubplot at 0xbcaaf28>"
      ]
     },
     "execution_count": 22,
     "metadata": {},
     "output_type": "execute_result"
    },
    {
     "data": {
      "image/png": "[encoded data removed]",
      "text/plain": [
       "<matplotlib.figure.Figure at 0xbcaaeb8>"
      ]
     },
     "metadata": {},
     "output_type": "display_data"
    }
   ],
   "source": [
    "plt.figure(figsize = (16, 6))\n",
    "plt.ylim(ymin = nbTuesParMois.min() - 1000, ymax = nbTuesParMois.max() + 1000)\n",
    "plt.xticks(nbTuesParMois.index, [\"Janvier\", \"Fevrier\", \"Mars\", \"Avril\", \"Mai\", \"Juin\", \"Juillet\", \n",
    "                                 \"Août\", \"Septembre\", \"Octobre\", \"Novembre\", \"Decembre\"])\n",
    "nbTuesParMois.plot()"
   ]
  },
  {
   "cell_type": "markdown",
   "metadata": {},
   "source": [
    "** Histoire: Peu de morts par accidents dans le premier trimestre de l'année. Juillet est le mois avec la plus forte \n",
    "mortalité**"
   ]
  },
  {
   "cell_type": "code",
   "execution_count": 71,
   "metadata": {},
   "outputs": [
    {
     "name": "stderr",
     "output_type": "stream",
     "text": [
      "C:\\Users\\mgdjohossou\\AppData\\Local\\Continuum\\anaconda3\\lib\\site-packages\\IPython\\core\\interactiveshell.py:2698: DtypeWarning: Columns (14) have mixed types. Specify dtype option on import or set low_memory=False.\n",
      "  interactivity=interactivity, compiler=compiler, result=result)\n"
     ]
    }
   ],
   "source": [
    "caract = pd.read_csv(\"caract_2010_2016.csv\", sep = \";\")"
   ]
  },
  {
   "cell_type": "code",
   "execution_count": 7,
   "metadata": {},
   "outputs": [
    {
     "data": {
      "text/plain": [
       "Num_Acc      int64\n",
       "an           int64\n",
       "mois         int64\n",
       "jour         int64\n",
       "hrmn         int64\n",
       "lum          int64\n",
       "agg          int64\n",
       "int          int64\n",
       "atm        float64\n",
       "col        float64\n",
       "com          int64\n",
       "adr         object\n",
       "gps         object\n",
       "lat        float64\n",
       "long        object\n",
       "dep          int64\n",
       "dtype: object"
      ]
     },
     "execution_count": 7,
     "metadata": {},
     "output_type": "execute_result"
    }
   ],
   "source": [
    "caract.dtypes"
   ]
  },
  {
   "cell_type": "code",
   "execution_count": 72,
   "metadata": {
    "collapsed": true
   },
   "outputs": [],
   "source": [
    "caract[\"date\"] = caract[[\"an\", \"mois\", \"jour\"]].apply(lambda triple: datetime(year = triple[0], \n",
    "                                            month = triple[1], day = triple[2]), axis = 1)"
   ]
  },
  {
   "cell_type": "code",
   "execution_count": 46,
   "metadata": {},
   "outputs": [
    {
     "data": {
      "text/html": [
       "<div>\n",
       "<style>\n",
       "    .dataframe thead tr:only-child th {\n",
       "        text-align: right;\n",
       "    }\n",
       "\n",
       "    .dataframe thead th {\n",
       "        text-align: left;\n",
       "    }\n",
       "\n",
       "    .dataframe tbody tr th {\n",
       "        vertical-align: top;\n",
       "    }\n",
       "</style>\n",
       "<table border=\"1\" class=\"dataframe\">\n",
       "  <thead>\n",
       "    <tr style=\"text-align: right;\">\n",
       "      <th></th>\n",
       "      <th>Num_Acc</th>\n",
       "      <th>an</th>\n",
       "      <th>mois</th>\n",
       "      <th>jour</th>\n",
       "      <th>hrmn</th>\n",
       "      <th>lum</th>\n",
       "      <th>agg</th>\n",
       "      <th>int</th>\n",
       "      <th>atm</th>\n",
       "      <th>col</th>\n",
       "      <th>com</th>\n",
       "      <th>adr</th>\n",
       "      <th>gps</th>\n",
       "      <th>lat</th>\n",
       "      <th>long</th>\n",
       "      <th>dep</th>\n",
       "      <th>date</th>\n",
       "    </tr>\n",
       "  </thead>\n",
       "  <tbody>\n",
       "    <tr>\n",
       "      <th>0</th>\n",
       "      <td>201000000001</td>\n",
       "      <td>2010</td>\n",
       "      <td>6</td>\n",
       "      <td>12</td>\n",
       "      <td>1930</td>\n",
       "      <td>1</td>\n",
       "      <td>2</td>\n",
       "      <td>1</td>\n",
       "      <td>1.0</td>\n",
       "      <td>6.0</td>\n",
       "      <td>52</td>\n",
       "      <td>71 RUE JEAN JAURES</td>\n",
       "      <td>M</td>\n",
       "      <td>0.0</td>\n",
       "      <td>0</td>\n",
       "      <td>590</td>\n",
       "      <td>2010-06-12</td>\n",
       "    </tr>\n",
       "    <tr>\n",
       "      <th>1</th>\n",
       "      <td>201000000002</td>\n",
       "      <td>2010</td>\n",
       "      <td>8</td>\n",
       "      <td>7</td>\n",
       "      <td>1000</td>\n",
       "      <td>1</td>\n",
       "      <td>2</td>\n",
       "      <td>1</td>\n",
       "      <td>1.0</td>\n",
       "      <td>6.0</td>\n",
       "      <td>477</td>\n",
       "      <td>Rue Nationale</td>\n",
       "      <td>M</td>\n",
       "      <td>5051600.0</td>\n",
       "      <td>292000</td>\n",
       "      <td>590</td>\n",
       "      <td>2010-08-07</td>\n",
       "    </tr>\n",
       "    <tr>\n",
       "      <th>2</th>\n",
       "      <td>201000000003</td>\n",
       "      <td>2010</td>\n",
       "      <td>9</td>\n",
       "      <td>11</td>\n",
       "      <td>1600</td>\n",
       "      <td>1</td>\n",
       "      <td>1</td>\n",
       "      <td>1</td>\n",
       "      <td>1.0</td>\n",
       "      <td>5.0</td>\n",
       "      <td>11</td>\n",
       "      <td>NaN</td>\n",
       "      <td>M</td>\n",
       "      <td>0.0</td>\n",
       "      <td>0</td>\n",
       "      <td>590</td>\n",
       "      <td>2010-09-11</td>\n",
       "    </tr>\n",
       "    <tr>\n",
       "      <th>3</th>\n",
       "      <td>201000000004</td>\n",
       "      <td>2010</td>\n",
       "      <td>9</td>\n",
       "      <td>22</td>\n",
       "      <td>1630</td>\n",
       "      <td>1</td>\n",
       "      <td>2</td>\n",
       "      <td>1</td>\n",
       "      <td>1.0</td>\n",
       "      <td>6.0</td>\n",
       "      <td>477</td>\n",
       "      <td>43 rue Nationale</td>\n",
       "      <td>M</td>\n",
       "      <td>5051800.0</td>\n",
       "      <td>292500</td>\n",
       "      <td>590</td>\n",
       "      <td>2010-09-22</td>\n",
       "    </tr>\n",
       "    <tr>\n",
       "      <th>4</th>\n",
       "      <td>201000000005</td>\n",
       "      <td>2010</td>\n",
       "      <td>10</td>\n",
       "      <td>25</td>\n",
       "      <td>1215</td>\n",
       "      <td>1</td>\n",
       "      <td>2</td>\n",
       "      <td>1</td>\n",
       "      <td>1.0</td>\n",
       "      <td>2.0</td>\n",
       "      <td>52</td>\n",
       "      <td>RUE GHESQUIERES</td>\n",
       "      <td>M</td>\n",
       "      <td>5050800.0</td>\n",
       "      <td>289700</td>\n",
       "      <td>590</td>\n",
       "      <td>2010-10-25</td>\n",
       "    </tr>\n",
       "  </tbody>\n",
       "</table>\n",
       "</div>"
      ],
      "text/plain": [
       "        Num_Acc    an  mois  jour  hrmn  lum  agg  int  atm  col  com  \\\n",
       "0  201000000001  2010     6    12  1930    1    2    1  1.0  6.0   52   \n",
       "1  201000000002  2010     8     7  1000    1    2    1  1.0  6.0  477   \n",
       "2  201000000003  2010     9    11  1600    1    1    1  1.0  5.0   11   \n",
       "3  201000000004  2010     9    22  1630    1    2    1  1.0  6.0  477   \n",
       "4  201000000005  2010    10    25  1215    1    2    1  1.0  2.0   52   \n",
       "\n",
       "                  adr gps        lat    long  dep       date  \n",
       "0  71 RUE JEAN JAURES   M        0.0       0  590 2010-06-12  \n",
       "1       Rue Nationale   M  5051600.0  292000  590 2010-08-07  \n",
       "2                 NaN   M        0.0       0  590 2010-09-11  \n",
       "3    43 rue Nationale   M  5051800.0  292500  590 2010-09-22  \n",
       "4     RUE GHESQUIERES   M  5050800.0  289700  590 2010-10-25  "
      ]
     },
     "execution_count": 46,
     "metadata": {},
     "output_type": "execute_result"
    }
   ],
   "source": [
    "caract.head()"
   ]
  },
  {
   "cell_type": "code",
   "execution_count": 73,
   "metadata": {
    "collapsed": true
   },
   "outputs": [],
   "source": [
    "caract[\"weekday\"] = caract[\"date\"].apply(lambda date: date.weekday())"
   ]
  },
  {
   "cell_type": "code",
   "execution_count": 74,
   "metadata": {
    "collapsed": true
   },
   "outputs": [],
   "source": [
    "def integerToWeekday(theInt):\n",
    "    d = {0: \"lundi\", 1: \"mardi\", 2: \"mercredi\", 3: \"jeudi\", 4: \"vendredi\", 5: \"samedi\", 6: \"dimanche\"}\n",
    "    return d[theInt]"
   ]
  },
  {
   "cell_type": "code",
   "execution_count": 75,
   "metadata": {
    "collapsed": true
   },
   "outputs": [],
   "source": [
    "caract[\"weekday\"] = caract[\"weekday\"].apply(lambda w: integerToWeekday(w))"
   ]
  },
  {
   "cell_type": "code",
   "execution_count": 50,
   "metadata": {
    "collapsed": true
   },
   "outputs": [],
   "source": [
    "nbAccidentsByWeekday = caract[[\"Num_Acc\", \"weekday\"]].groupby(\"weekday\").apply(lambda group: group.shape[0])"
   ]
  },
  {
   "cell_type": "code",
   "execution_count": 51,
   "metadata": {},
   "outputs": [
    {
     "data": {
      "text/plain": [
       "<matplotlib.axes._subplots.AxesSubplot at 0xd075470>"
      ]
     },
     "execution_count": 51,
     "metadata": {},
     "output_type": "execute_result"
    },
    {
     "data": {
      "image/png": "[encoded data removed]",
      "text/plain": [
       "<matplotlib.figure.Figure at 0xd075208>"
      ]
     },
     "metadata": {},
     "output_type": "display_data"
    }
   ],
   "source": [
    "plt.figure(figsize = (16, 6))\n",
    "plt.ylim(ymin = nbAccidentsByWeekday.min() - 1000, ymax = nbAccidentsByWeekday.max() + 1000)\n",
    "nbAccidentsByWeekday.plot.bar()"
   ]
  },
  {
   "cell_type": "markdown",
   "metadata": {},
   "source": [
    "** Histoire: La plupart des accidents ont lieu le vendredi et le moins le dimanche **"
   ]
  },
  {
   "cell_type": "code",
   "execution_count": 73,
   "metadata": {
    "collapsed": true
   },
   "outputs": [],
   "source": [
    "caract[\"hr\"] = caract[\"hrmn\"].apply(lambda h: str(h)[0:2] if len(str(h)) > 3 else \"0\" + str(h)[0])"
   ]
  },
  {
   "cell_type": "code",
   "execution_count": 75,
   "metadata": {
    "collapsed": true
   },
   "outputs": [],
   "source": [
    "nbAccidentsByHour = caract[[\"Num_Acc\", \"hr\"]].groupby(\"hr\").apply(lambda group: group.shape[0])"
   ]
  },
  {
   "cell_type": "code",
   "execution_count": 76,
   "metadata": {},
   "outputs": [
    {
     "data": {
      "text/plain": [
       "<matplotlib.axes._subplots.AxesSubplot at 0x18600668>"
      ]
     },
     "execution_count": 76,
     "metadata": {},
     "output_type": "execute_result"
    },
    {
     "data": {
      "image/png": "[encoded data removed]",
      "text/plain": [
       "<matplotlib.figure.Figure at 0x186006d8>"
      ]
     },
     "metadata": {},
     "output_type": "display_data"
    }
   ],
   "source": [
    "plt.figure(figsize = (16, 6))\n",
    "plt.ylim(ymin = nbAccidentsByHour.min() - 1000, ymax = nbAccidentsByHour.max() + 1000)\n",
    "nbAccidentsByHour.plot.bar()"
   ]
  },
  {
   "cell_type": "markdown",
   "metadata": {},
   "source": [
    "** Histoire: La plupart des accidents ont lieu quand les gens rentrent du boulot **"
   ]
  },
  {
   "cell_type": "code",
   "execution_count": 76,
   "metadata": {},
   "outputs": [
    {
     "name": "stderr",
     "output_type": "stream",
     "text": [
      "C:\\Users\\mgdjohossou\\AppData\\Local\\Continuum\\anaconda3\\lib\\site-packages\\IPython\\core\\interactiveshell.py:2698: DtypeWarning: Columns (3) have mixed types. Specify dtype option on import or set low_memory=False.\n",
      "  interactivity=interactivity, compiler=compiler, result=result)\n"
     ]
    }
   ],
   "source": [
    "lieux = pd.read_csv(\"lieux_2010_2016.csv\", sep = \";\")"
   ]
  },
  {
   "cell_type": "code",
   "execution_count": 26,
   "metadata": {},
   "outputs": [
    {
     "data": {
      "text/html": [
       "<div>\n",
       "<style>\n",
       "    .dataframe thead tr:only-child th {\n",
       "        text-align: right;\n",
       "    }\n",
       "\n",
       "    .dataframe thead th {\n",
       "        text-align: left;\n",
       "    }\n",
       "\n",
       "    .dataframe tbody tr th {\n",
       "        vertical-align: top;\n",
       "    }\n",
       "</style>\n",
       "<table border=\"1\" class=\"dataframe\">\n",
       "  <thead>\n",
       "    <tr style=\"text-align: right;\">\n",
       "      <th></th>\n",
       "      <th>Num_Acc</th>\n",
       "      <th>an</th>\n",
       "      <th>catr</th>\n",
       "      <th>voie</th>\n",
       "      <th>v1</th>\n",
       "      <th>v2</th>\n",
       "      <th>circ</th>\n",
       "      <th>nbv</th>\n",
       "      <th>pr</th>\n",
       "      <th>pr1</th>\n",
       "      <th>vosp</th>\n",
       "      <th>prof</th>\n",
       "      <th>plan</th>\n",
       "      <th>lartpc</th>\n",
       "      <th>larrout</th>\n",
       "      <th>surf</th>\n",
       "      <th>infra</th>\n",
       "      <th>situ</th>\n",
       "      <th>env1</th>\n",
       "    </tr>\n",
       "  </thead>\n",
       "  <tbody>\n",
       "    <tr>\n",
       "      <th>0</th>\n",
       "      <td>201000000001</td>\n",
       "      <td>2010</td>\n",
       "      <td>3</td>\n",
       "      <td>39</td>\n",
       "      <td>NaN</td>\n",
       "      <td>NaN</td>\n",
       "      <td>2.0</td>\n",
       "      <td>2.0</td>\n",
       "      <td>0.0</td>\n",
       "      <td>0.0</td>\n",
       "      <td>0.0</td>\n",
       "      <td>1.0</td>\n",
       "      <td>1.0</td>\n",
       "      <td>0.0</td>\n",
       "      <td>60.0</td>\n",
       "      <td>1.0</td>\n",
       "      <td>0.0</td>\n",
       "      <td>1.0</td>\n",
       "      <td>0.0</td>\n",
       "    </tr>\n",
       "    <tr>\n",
       "      <th>1</th>\n",
       "      <td>201000000002</td>\n",
       "      <td>2010</td>\n",
       "      <td>3</td>\n",
       "      <td>39</td>\n",
       "      <td>NaN</td>\n",
       "      <td>NaN</td>\n",
       "      <td>2.0</td>\n",
       "      <td>0.0</td>\n",
       "      <td>0.0</td>\n",
       "      <td>0.0</td>\n",
       "      <td>0.0</td>\n",
       "      <td>1.0</td>\n",
       "      <td>1.0</td>\n",
       "      <td>0.0</td>\n",
       "      <td>0.0</td>\n",
       "      <td>1.0</td>\n",
       "      <td>0.0</td>\n",
       "      <td>1.0</td>\n",
       "      <td>0.0</td>\n",
       "    </tr>\n",
       "    <tr>\n",
       "      <th>2</th>\n",
       "      <td>201000000003</td>\n",
       "      <td>2010</td>\n",
       "      <td>3</td>\n",
       "      <td>41</td>\n",
       "      <td>2.0</td>\n",
       "      <td>NaN</td>\n",
       "      <td>2.0</td>\n",
       "      <td>2.0</td>\n",
       "      <td>0.0</td>\n",
       "      <td>0.0</td>\n",
       "      <td>0.0</td>\n",
       "      <td>1.0</td>\n",
       "      <td>1.0</td>\n",
       "      <td>0.0</td>\n",
       "      <td>61.0</td>\n",
       "      <td>1.0</td>\n",
       "      <td>0.0</td>\n",
       "      <td>1.0</td>\n",
       "      <td>0.0</td>\n",
       "    </tr>\n",
       "    <tr>\n",
       "      <th>3</th>\n",
       "      <td>201000000004</td>\n",
       "      <td>2010</td>\n",
       "      <td>3</td>\n",
       "      <td>39</td>\n",
       "      <td>NaN</td>\n",
       "      <td>NaN</td>\n",
       "      <td>2.0</td>\n",
       "      <td>2.0</td>\n",
       "      <td>0.0</td>\n",
       "      <td>0.0</td>\n",
       "      <td>0.0</td>\n",
       "      <td>1.0</td>\n",
       "      <td>1.0</td>\n",
       "      <td>0.0</td>\n",
       "      <td>68.0</td>\n",
       "      <td>1.0</td>\n",
       "      <td>0.0</td>\n",
       "      <td>1.0</td>\n",
       "      <td>0.0</td>\n",
       "    </tr>\n",
       "    <tr>\n",
       "      <th>4</th>\n",
       "      <td>201000000005</td>\n",
       "      <td>2010</td>\n",
       "      <td>3</td>\n",
       "      <td>239</td>\n",
       "      <td>NaN</td>\n",
       "      <td>NaN</td>\n",
       "      <td>2.0</td>\n",
       "      <td>1.0</td>\n",
       "      <td>0.0</td>\n",
       "      <td>0.0</td>\n",
       "      <td>0.0</td>\n",
       "      <td>1.0</td>\n",
       "      <td>1.0</td>\n",
       "      <td>0.0</td>\n",
       "      <td>0.0</td>\n",
       "      <td>1.0</td>\n",
       "      <td>0.0</td>\n",
       "      <td>1.0</td>\n",
       "      <td>99.0</td>\n",
       "    </tr>\n",
       "  </tbody>\n",
       "</table>\n",
       "</div>"
      ],
      "text/plain": [
       "        Num_Acc    an  catr voie   v1   v2  circ  nbv   pr  pr1  vosp  prof  \\\n",
       "0  201000000001  2010     3   39  NaN  NaN   2.0  2.0  0.0  0.0   0.0   1.0   \n",
       "1  201000000002  2010     3   39  NaN  NaN   2.0  0.0  0.0  0.0   0.0   1.0   \n",
       "2  201000000003  2010     3   41  2.0  NaN   2.0  2.0  0.0  0.0   0.0   1.0   \n",
       "3  201000000004  2010     3   39  NaN  NaN   2.0  2.0  0.0  0.0   0.0   1.0   \n",
       "4  201000000005  2010     3  239  NaN  NaN   2.0  1.0  0.0  0.0   0.0   1.0   \n",
       "\n",
       "   plan  lartpc  larrout  surf  infra  situ  env1  \n",
       "0   1.0     0.0     60.0   1.0    0.0   1.0   0.0  \n",
       "1   1.0     0.0      0.0   1.0    0.0   1.0   0.0  \n",
       "2   1.0     0.0     61.0   1.0    0.0   1.0   0.0  \n",
       "3   1.0     0.0     68.0   1.0    0.0   1.0   0.0  \n",
       "4   1.0     0.0      0.0   1.0    0.0   1.0  99.0  "
      ]
     },
     "execution_count": 26,
     "metadata": {},
     "output_type": "execute_result"
    }
   ],
   "source": [
    "lieux.head()"
   ]
  },
  {
   "cell_type": "code",
   "execution_count": 27,
   "metadata": {},
   "outputs": [
    {
     "data": {
      "text/plain": [
       "Num_Acc      int64\n",
       "an           int64\n",
       "catr         int64\n",
       "voie        object\n",
       "v1         float64\n",
       "v2          object\n",
       "circ       float64\n",
       "nbv        float64\n",
       "pr         float64\n",
       "pr1        float64\n",
       "vosp       float64\n",
       "prof       float64\n",
       "plan       float64\n",
       "lartpc     float64\n",
       "larrout    float64\n",
       "surf       float64\n",
       "infra      float64\n",
       "situ       float64\n",
       "env1       float64\n",
       "dtype: object"
      ]
     },
     "execution_count": 27,
     "metadata": {},
     "output_type": "execute_result"
    }
   ],
   "source": [
    "lieux.dtypes"
   ]
  },
  {
   "cell_type": "code",
   "execution_count": 77,
   "metadata": {
    "collapsed": true
   },
   "outputs": [],
   "source": [
    "usagers = pd.read_csv(\"usagers_2010_2016.csv\", sep = \";\")"
   ]
  },
  {
   "cell_type": "code",
   "execution_count": 29,
   "metadata": {},
   "outputs": [
    {
     "data": {
      "text/plain": [
       "(966043, 13)"
      ]
     },
     "execution_count": 29,
     "metadata": {},
     "output_type": "execute_result"
    }
   ],
   "source": [
    "usagers.shape"
   ]
  },
  {
   "cell_type": "code",
   "execution_count": 30,
   "metadata": {},
   "outputs": [
    {
     "data": {
      "text/html": [
       "<div>\n",
       "<style>\n",
       "    .dataframe thead tr:only-child th {\n",
       "        text-align: right;\n",
       "    }\n",
       "\n",
       "    .dataframe thead th {\n",
       "        text-align: left;\n",
       "    }\n",
       "\n",
       "    .dataframe tbody tr th {\n",
       "        vertical-align: top;\n",
       "    }\n",
       "</style>\n",
       "<table border=\"1\" class=\"dataframe\">\n",
       "  <thead>\n",
       "    <tr style=\"text-align: right;\">\n",
       "      <th></th>\n",
       "      <th>Num_Acc</th>\n",
       "      <th>an</th>\n",
       "      <th>place</th>\n",
       "      <th>catu</th>\n",
       "      <th>grav</th>\n",
       "      <th>sexe</th>\n",
       "      <th>trajet</th>\n",
       "      <th>secu</th>\n",
       "      <th>locp</th>\n",
       "      <th>actp</th>\n",
       "      <th>etatp</th>\n",
       "      <th>an_nais</th>\n",
       "      <th>num_veh</th>\n",
       "    </tr>\n",
       "  </thead>\n",
       "  <tbody>\n",
       "    <tr>\n",
       "      <th>0</th>\n",
       "      <td>201000000001</td>\n",
       "      <td>2010</td>\n",
       "      <td>1.0</td>\n",
       "      <td>1</td>\n",
       "      <td>3</td>\n",
       "      <td>1</td>\n",
       "      <td>5.0</td>\n",
       "      <td>21.0</td>\n",
       "      <td>0.0</td>\n",
       "      <td>0.0</td>\n",
       "      <td>0.0</td>\n",
       "      <td>1976.0</td>\n",
       "      <td>A01</td>\n",
       "    </tr>\n",
       "    <tr>\n",
       "      <th>1</th>\n",
       "      <td>201000000002</td>\n",
       "      <td>2010</td>\n",
       "      <td>NaN</td>\n",
       "      <td>3</td>\n",
       "      <td>3</td>\n",
       "      <td>1</td>\n",
       "      <td>0.0</td>\n",
       "      <td>NaN</td>\n",
       "      <td>4.0</td>\n",
       "      <td>3.0</td>\n",
       "      <td>1.0</td>\n",
       "      <td>1965.0</td>\n",
       "      <td>A01</td>\n",
       "    </tr>\n",
       "    <tr>\n",
       "      <th>2</th>\n",
       "      <td>201000000002</td>\n",
       "      <td>2010</td>\n",
       "      <td>1.0</td>\n",
       "      <td>1</td>\n",
       "      <td>1</td>\n",
       "      <td>2</td>\n",
       "      <td>5.0</td>\n",
       "      <td>11.0</td>\n",
       "      <td>0.0</td>\n",
       "      <td>0.0</td>\n",
       "      <td>0.0</td>\n",
       "      <td>1983.0</td>\n",
       "      <td>A01</td>\n",
       "    </tr>\n",
       "    <tr>\n",
       "      <th>3</th>\n",
       "      <td>201000000003</td>\n",
       "      <td>2010</td>\n",
       "      <td>1.0</td>\n",
       "      <td>1</td>\n",
       "      <td>3</td>\n",
       "      <td>1</td>\n",
       "      <td>5.0</td>\n",
       "      <td>23.0</td>\n",
       "      <td>0.0</td>\n",
       "      <td>0.0</td>\n",
       "      <td>0.0</td>\n",
       "      <td>1979.0</td>\n",
       "      <td>A01</td>\n",
       "    </tr>\n",
       "    <tr>\n",
       "      <th>4</th>\n",
       "      <td>201000000003</td>\n",
       "      <td>2010</td>\n",
       "      <td>1.0</td>\n",
       "      <td>1</td>\n",
       "      <td>1</td>\n",
       "      <td>2</td>\n",
       "      <td>5.0</td>\n",
       "      <td>11.0</td>\n",
       "      <td>0.0</td>\n",
       "      <td>0.0</td>\n",
       "      <td>0.0</td>\n",
       "      <td>1959.0</td>\n",
       "      <td>C03</td>\n",
       "    </tr>\n",
       "  </tbody>\n",
       "</table>\n",
       "</div>"
      ],
      "text/plain": [
       "        Num_Acc    an  place  catu  grav  sexe  trajet  secu  locp  actp  \\\n",
       "0  201000000001  2010    1.0     1     3     1     5.0  21.0   0.0   0.0   \n",
       "1  201000000002  2010    NaN     3     3     1     0.0   NaN   4.0   3.0   \n",
       "2  201000000002  2010    1.0     1     1     2     5.0  11.0   0.0   0.0   \n",
       "3  201000000003  2010    1.0     1     3     1     5.0  23.0   0.0   0.0   \n",
       "4  201000000003  2010    1.0     1     1     2     5.0  11.0   0.0   0.0   \n",
       "\n",
       "   etatp  an_nais num_veh  \n",
       "0    0.0   1976.0     A01  \n",
       "1    1.0   1965.0     A01  \n",
       "2    0.0   1983.0     A01  \n",
       "3    0.0   1979.0     A01  \n",
       "4    0.0   1959.0     C03  "
      ]
     },
     "execution_count": 30,
     "metadata": {},
     "output_type": "execute_result"
    }
   ],
   "source": [
    "usagers.head()"
   ]
  },
  {
   "cell_type": "code",
   "execution_count": 78,
   "metadata": {
    "collapsed": true
   },
   "outputs": [],
   "source": [
    "vehicules = pd.read_csv(\"vehicules_2010_2016.csv\", sep = \";\")"
   ]
  },
  {
   "cell_type": "code",
   "execution_count": 53,
   "metadata": {},
   "outputs": [
    {
     "data": {
      "text/plain": [
       "(739800, 10)"
      ]
     },
     "execution_count": 53,
     "metadata": {},
     "output_type": "execute_result"
    }
   ],
   "source": [
    "vehicules.shape"
   ]
  },
  {
   "cell_type": "code",
   "execution_count": 54,
   "metadata": {},
   "outputs": [
    {
     "data": {
      "text/html": [
       "<div>\n",
       "<style>\n",
       "    .dataframe thead tr:only-child th {\n",
       "        text-align: right;\n",
       "    }\n",
       "\n",
       "    .dataframe thead th {\n",
       "        text-align: left;\n",
       "    }\n",
       "\n",
       "    .dataframe tbody tr th {\n",
       "        vertical-align: top;\n",
       "    }\n",
       "</style>\n",
       "<table border=\"1\" class=\"dataframe\">\n",
       "  <thead>\n",
       "    <tr style=\"text-align: right;\">\n",
       "      <th></th>\n",
       "      <th>Num_Acc</th>\n",
       "      <th>Annee</th>\n",
       "      <th>senc</th>\n",
       "      <th>catv</th>\n",
       "      <th>occutc</th>\n",
       "      <th>obs</th>\n",
       "      <th>obsm</th>\n",
       "      <th>choc</th>\n",
       "      <th>manv</th>\n",
       "      <th>num_veh</th>\n",
       "    </tr>\n",
       "  </thead>\n",
       "  <tbody>\n",
       "    <tr>\n",
       "      <th>0</th>\n",
       "      <td>201000000001</td>\n",
       "      <td>2010</td>\n",
       "      <td>0.0</td>\n",
       "      <td>30</td>\n",
       "      <td>0</td>\n",
       "      <td>1.0</td>\n",
       "      <td>0.0</td>\n",
       "      <td>1.0</td>\n",
       "      <td>1.0</td>\n",
       "      <td>A01</td>\n",
       "    </tr>\n",
       "    <tr>\n",
       "      <th>1</th>\n",
       "      <td>201000000002</td>\n",
       "      <td>2010</td>\n",
       "      <td>0.0</td>\n",
       "      <td>7</td>\n",
       "      <td>0</td>\n",
       "      <td>0.0</td>\n",
       "      <td>1.0</td>\n",
       "      <td>1.0</td>\n",
       "      <td>1.0</td>\n",
       "      <td>A01</td>\n",
       "    </tr>\n",
       "    <tr>\n",
       "      <th>2</th>\n",
       "      <td>201000000003</td>\n",
       "      <td>2010</td>\n",
       "      <td>0.0</td>\n",
       "      <td>33</td>\n",
       "      <td>0</td>\n",
       "      <td>0.0</td>\n",
       "      <td>2.0</td>\n",
       "      <td>1.0</td>\n",
       "      <td>17.0</td>\n",
       "      <td>A01</td>\n",
       "    </tr>\n",
       "    <tr>\n",
       "      <th>3</th>\n",
       "      <td>201000000003</td>\n",
       "      <td>2010</td>\n",
       "      <td>0.0</td>\n",
       "      <td>7</td>\n",
       "      <td>0</td>\n",
       "      <td>0.0</td>\n",
       "      <td>9.0</td>\n",
       "      <td>3.0</td>\n",
       "      <td>23.0</td>\n",
       "      <td>C03</td>\n",
       "    </tr>\n",
       "    <tr>\n",
       "      <th>4</th>\n",
       "      <td>201000000003</td>\n",
       "      <td>2010</td>\n",
       "      <td>0.0</td>\n",
       "      <td>7</td>\n",
       "      <td>0</td>\n",
       "      <td>0.0</td>\n",
       "      <td>9.0</td>\n",
       "      <td>6.0</td>\n",
       "      <td>1.0</td>\n",
       "      <td>B02</td>\n",
       "    </tr>\n",
       "  </tbody>\n",
       "</table>\n",
       "</div>"
      ],
      "text/plain": [
       "        Num_Acc  Annee  senc  catv  occutc  obs  obsm  choc  manv num_veh\n",
       "0  201000000001   2010   0.0    30       0  1.0   0.0   1.0   1.0     A01\n",
       "1  201000000002   2010   0.0     7       0  0.0   1.0   1.0   1.0     A01\n",
       "2  201000000003   2010   0.0    33       0  0.0   2.0   1.0  17.0     A01\n",
       "3  201000000003   2010   0.0     7       0  0.0   9.0   3.0  23.0     C03\n",
       "4  201000000003   2010   0.0     7       0  0.0   9.0   6.0   1.0     B02"
      ]
     },
     "execution_count": 54,
     "metadata": {},
     "output_type": "execute_result"
    }
   ],
   "source": [
    "vehicules.head()"
   ]
  },
  {
   "cell_type": "markdown",
   "metadata": {},
   "source": [
    "** Conditions d'éclairage dans lesquelles l'accident s'est produit **"
   ]
  },
  {
   "cell_type": "code",
   "execution_count": 80,
   "metadata": {
    "collapsed": true
   },
   "outputs": [],
   "source": [
    "def parseLum(theInt):\n",
    "    d = {1: \"plein jour\", 2: \"crepuscule ou aube\", 3: \"nuit sans éclairage public\", \n",
    "         4: \"nuit avec eclairage public non allume\", 5: \"nuit avec eclairage public allume\"}\n",
    "    return d[theInt]"
   ]
  },
  {
   "cell_type": "code",
   "execution_count": 82,
   "metadata": {},
   "outputs": [],
   "source": [
    "caract[\"lum\"] = caract[\"lum\"].apply(lambda l: parseLum(l))"
   ]
  },
  {
   "cell_type": "code",
   "execution_count": 32,
   "metadata": {
    "collapsed": true
   },
   "outputs": [],
   "source": [
    "nbAccidentsByLum = caract[[\"Num_Acc\", \"lum\"]].groupby(\"lum\").apply(lambda group: group.shape[0])"
   ]
  },
  {
   "cell_type": "code",
   "execution_count": 33,
   "metadata": {},
   "outputs": [
    {
     "data": {
      "text/plain": [
       "<matplotlib.axes._subplots.AxesSubplot at 0xc588470>"
      ]
     },
     "execution_count": 33,
     "metadata": {},
     "output_type": "execute_result"
    },
    {
     "data": {
      "image/png": "[encoded data removed]",
      "text/plain": [
       "<matplotlib.figure.Figure at 0xc5887f0>"
      ]
     },
     "metadata": {},
     "output_type": "display_data"
    }
   ],
   "source": [
    "plt.figure(figsize = (16, 6))\n",
    "plt.ylim(ymin = nbAccidentsByLum.min() - 1000, ymax = nbAccidentsByLum.max() + 1000)\n",
    "plt.xticks([1, 2, 3, 4, 5], [\"Plein jour\", \"Crepuscule ou aube\", \"Nuit sans\", \n",
    "                                    \"Nuit avec non allumé\", \"Nuit avec\"])\n",
    "nbAccidentsByLum.plot.bar()"
   ]
  },
  {
   "cell_type": "markdown",
   "metadata": {},
   "source": [
    "** Histoire: La plupart des accidents se produit en plein jour **"
   ]
  },
  {
   "cell_type": "code",
   "execution_count": 34,
   "metadata": {
    "collapsed": true
   },
   "outputs": [],
   "source": [
    "nbAccidentsByAgg = caract[[\"Num_Acc\", \"agg\"]].groupby(\"agg\").apply(lambda group: group.shape[0])"
   ]
  },
  {
   "cell_type": "code",
   "execution_count": 35,
   "metadata": {},
   "outputs": [
    {
     "data": {
      "text/plain": [
       "<matplotlib.axes._subplots.AxesSubplot at 0xc66c668>"
      ]
     },
     "execution_count": 35,
     "metadata": {},
     "output_type": "execute_result"
    },
    {
     "data": {
      "image/png": "[encoded data removed]",
      "text/plain": [
       "<matplotlib.figure.Figure at 0xc66cda0>"
      ]
     },
     "metadata": {},
     "output_type": "display_data"
    }
   ],
   "source": [
    "plt.figure(figsize = (16, 6))\n",
    "plt.ylim(ymin = nbAccidentsByAgg.min() - 1000, ymax = nbAccidentsByAgg.max() + 1000)\n",
    "nbAccidentsByAgg.plot.bar()"
   ]
  },
  {
   "cell_type": "markdown",
   "metadata": {},
   "source": [
    "** Histoire: 60% des accidents se produisent en agglomération **"
   ]
  },
  {
   "cell_type": "code",
   "execution_count": 36,
   "metadata": {
    "collapsed": true
   },
   "outputs": [],
   "source": [
    "nbAccidentsByInt = caract[[\"Num_Acc\", \"int\"]].groupby(\"int\").apply(lambda group: group.shape[0])"
   ]
  },
  {
   "cell_type": "code",
   "execution_count": 37,
   "metadata": {},
   "outputs": [
    {
     "data": {
      "text/plain": [
       "<matplotlib.axes._subplots.AxesSubplot at 0xbc70c88>"
      ]
     },
     "execution_count": 37,
     "metadata": {},
     "output_type": "execute_result"
    },
    {
     "data": {
      "image/png": "[encoded data removed]",
      "text/plain": [
       "<matplotlib.figure.Figure at 0xc633908>"
      ]
     },
     "metadata": {},
     "output_type": "display_data"
    }
   ],
   "source": [
    "plt.figure(figsize = (16, 6))\n",
    "plt.ylim(ymin = nbAccidentsByInt.min() - 1000, ymax = nbAccidentsByInt.max() + 1000)\n",
    "nbAccidentsByInt.plot.bar()"
   ]
  },
  {
   "cell_type": "markdown",
   "metadata": {},
   "source": [
    "** Histoire: 75% des accidents se produisent hors intersection **"
   ]
  },
  {
   "cell_type": "code",
   "execution_count": 38,
   "metadata": {
    "collapsed": true
   },
   "outputs": [],
   "source": [
    "nbAccidentsByAtm = caract[[\"Num_Acc\", \"atm\"]].groupby(\"atm\").apply(lambda group: group.shape[0])"
   ]
  },
  {
   "cell_type": "code",
   "execution_count": 39,
   "metadata": {},
   "outputs": [
    {
     "data": {
      "text/plain": [
       "<matplotlib.axes._subplots.AxesSubplot at 0xc7400b8>"
      ]
     },
     "execution_count": 39,
     "metadata": {},
     "output_type": "execute_result"
    },
    {
     "data": {
      "image/png": "[encoded data removed]",
      "text/plain": [
       "<matplotlib.figure.Figure at 0xc740828>"
      ]
     },
     "metadata": {},
     "output_type": "display_data"
    }
   ],
   "source": [
    "plt.figure(figsize = (16, 6))\n",
    "plt.ylim(ymin = nbAccidentsByAtm.min() - 1000, ymax = nbAccidentsByAtm.max() + 1000)\n",
    "nbAccidentsByAtm.plot.bar()"
   ]
  },
  {
   "cell_type": "markdown",
   "metadata": {},
   "source": [
    "** 80% des accidents se produisent en condition atmosphérique normale **"
   ]
  },
  {
   "cell_type": "code",
   "execution_count": null,
   "metadata": {
    "collapsed": true
   },
   "outputs": [],
   "source": [
    "def parseCol(theFloat):\n",
    "    d = {}\n",
    "    return d[int(theInt)]"
   ]
  },
  {
   "cell_type": "code",
   "execution_count": 84,
   "metadata": {},
   "outputs": [
    {
     "data": {
      "text/plain": [
       "array([  6.,   5.,   2.,   4.,   1.,   3.,   7.,  nan])"
      ]
     },
     "execution_count": 84,
     "metadata": {},
     "output_type": "execute_result"
    }
   ],
   "source": [
    "caract[\"col\"].unique()"
   ]
  },
  {
   "cell_type": "code",
   "execution_count": 40,
   "metadata": {
    "collapsed": true
   },
   "outputs": [],
   "source": [
    "nbAccidentsByColType = caract[[\"Num_Acc\", \"col\"]].groupby(\"col\").apply(lambda group: group.shape[0])"
   ]
  },
  {
   "cell_type": "code",
   "execution_count": 41,
   "metadata": {},
   "outputs": [
    {
     "data": {
      "text/plain": [
       "<matplotlib.axes._subplots.AxesSubplot at 0xc7cafd0>"
      ]
     },
     "execution_count": 41,
     "metadata": {},
     "output_type": "execute_result"
    },
    {
     "data": {
      "image/png": "[encoded data removed]",
      "text/plain": [
       "<matplotlib.figure.Figure at 0xc7d2128>"
      ]
     },
     "metadata": {},
     "output_type": "display_data"
    }
   ],
   "source": [
    "plt.figure(figsize = (16, 6))\n",
    "plt.ylim(ymin = nbAccidentsByColType.min() - 1000, ymax = nbAccidentsByColType.max() + 1000)\n",
    "nbAccidentsByColType.plot.bar()"
   ]
  },
  {
   "cell_type": "markdown",
   "metadata": {},
   "source": [
    "** Le type de collisions le plus fréquent est deux véhicules sur le côté **"
   ]
  },
  {
   "cell_type": "code",
   "execution_count": 11,
   "metadata": {
    "collapsed": true
   },
   "outputs": [],
   "source": [
    "caract_lieux = caract.merge(lieux, on = \"Num_Acc\", suffixes = [\"_caract\", \"_lieux\"])"
   ]
  },
  {
   "cell_type": "code",
   "execution_count": 43,
   "metadata": {},
   "outputs": [
    {
     "data": {
      "text/html": [
       "<div>\n",
       "<style>\n",
       "    .dataframe thead tr:only-child th {\n",
       "        text-align: right;\n",
       "    }\n",
       "\n",
       "    .dataframe thead th {\n",
       "        text-align: left;\n",
       "    }\n",
       "\n",
       "    .dataframe tbody tr th {\n",
       "        vertical-align: top;\n",
       "    }\n",
       "</style>\n",
       "<table border=\"1\" class=\"dataframe\">\n",
       "  <thead>\n",
       "    <tr style=\"text-align: right;\">\n",
       "      <th></th>\n",
       "      <th>Num_Acc</th>\n",
       "      <th>an_caract</th>\n",
       "      <th>mois</th>\n",
       "      <th>jour</th>\n",
       "      <th>hrmn</th>\n",
       "      <th>lum</th>\n",
       "      <th>agg</th>\n",
       "      <th>int</th>\n",
       "      <th>atm</th>\n",
       "      <th>col</th>\n",
       "      <th>com</th>\n",
       "      <th>adr</th>\n",
       "      <th>gps</th>\n",
       "      <th>lat</th>\n",
       "      <th>long</th>\n",
       "      <th>dep</th>\n",
       "      <th>an_lieux</th>\n",
       "      <th>catr</th>\n",
       "      <th>voie</th>\n",
       "      <th>v1</th>\n",
       "      <th>v2</th>\n",
       "      <th>circ</th>\n",
       "      <th>nbv</th>\n",
       "      <th>pr</th>\n",
       "      <th>pr1</th>\n",
       "      <th>vosp</th>\n",
       "      <th>prof</th>\n",
       "      <th>plan</th>\n",
       "      <th>lartpc</th>\n",
       "      <th>larrout</th>\n",
       "      <th>surf</th>\n",
       "      <th>infra</th>\n",
       "      <th>situ</th>\n",
       "      <th>env1</th>\n",
       "    </tr>\n",
       "  </thead>\n",
       "  <tbody>\n",
       "    <tr>\n",
       "      <th>0</th>\n",
       "      <td>201000000001</td>\n",
       "      <td>2010</td>\n",
       "      <td>6</td>\n",
       "      <td>12</td>\n",
       "      <td>1930</td>\n",
       "      <td>1</td>\n",
       "      <td>2</td>\n",
       "      <td>1</td>\n",
       "      <td>1.0</td>\n",
       "      <td>6.0</td>\n",
       "      <td>52</td>\n",
       "      <td>71 RUE JEAN JAURES</td>\n",
       "      <td>M</td>\n",
       "      <td>0.0</td>\n",
       "      <td>0</td>\n",
       "      <td>590</td>\n",
       "      <td>2010</td>\n",
       "      <td>3</td>\n",
       "      <td>39</td>\n",
       "      <td>NaN</td>\n",
       "      <td>NaN</td>\n",
       "      <td>2.0</td>\n",
       "      <td>2.0</td>\n",
       "      <td>0.0</td>\n",
       "      <td>0.0</td>\n",
       "      <td>0.0</td>\n",
       "      <td>1.0</td>\n",
       "      <td>1.0</td>\n",
       "      <td>0.0</td>\n",
       "      <td>60.0</td>\n",
       "      <td>1.0</td>\n",
       "      <td>0.0</td>\n",
       "      <td>1.0</td>\n",
       "      <td>0.0</td>\n",
       "    </tr>\n",
       "    <tr>\n",
       "      <th>1</th>\n",
       "      <td>201000000002</td>\n",
       "      <td>2010</td>\n",
       "      <td>8</td>\n",
       "      <td>7</td>\n",
       "      <td>1000</td>\n",
       "      <td>1</td>\n",
       "      <td>2</td>\n",
       "      <td>1</td>\n",
       "      <td>1.0</td>\n",
       "      <td>6.0</td>\n",
       "      <td>477</td>\n",
       "      <td>Rue Nationale</td>\n",
       "      <td>M</td>\n",
       "      <td>5051600.0</td>\n",
       "      <td>292000</td>\n",
       "      <td>590</td>\n",
       "      <td>2010</td>\n",
       "      <td>3</td>\n",
       "      <td>39</td>\n",
       "      <td>NaN</td>\n",
       "      <td>NaN</td>\n",
       "      <td>2.0</td>\n",
       "      <td>0.0</td>\n",
       "      <td>0.0</td>\n",
       "      <td>0.0</td>\n",
       "      <td>0.0</td>\n",
       "      <td>1.0</td>\n",
       "      <td>1.0</td>\n",
       "      <td>0.0</td>\n",
       "      <td>0.0</td>\n",
       "      <td>1.0</td>\n",
       "      <td>0.0</td>\n",
       "      <td>1.0</td>\n",
       "      <td>0.0</td>\n",
       "    </tr>\n",
       "    <tr>\n",
       "      <th>2</th>\n",
       "      <td>201000000003</td>\n",
       "      <td>2010</td>\n",
       "      <td>9</td>\n",
       "      <td>11</td>\n",
       "      <td>1600</td>\n",
       "      <td>1</td>\n",
       "      <td>1</td>\n",
       "      <td>1</td>\n",
       "      <td>1.0</td>\n",
       "      <td>5.0</td>\n",
       "      <td>11</td>\n",
       "      <td>NaN</td>\n",
       "      <td>M</td>\n",
       "      <td>0.0</td>\n",
       "      <td>0</td>\n",
       "      <td>590</td>\n",
       "      <td>2010</td>\n",
       "      <td>3</td>\n",
       "      <td>41</td>\n",
       "      <td>2.0</td>\n",
       "      <td>NaN</td>\n",
       "      <td>2.0</td>\n",
       "      <td>2.0</td>\n",
       "      <td>0.0</td>\n",
       "      <td>0.0</td>\n",
       "      <td>0.0</td>\n",
       "      <td>1.0</td>\n",
       "      <td>1.0</td>\n",
       "      <td>0.0</td>\n",
       "      <td>61.0</td>\n",
       "      <td>1.0</td>\n",
       "      <td>0.0</td>\n",
       "      <td>1.0</td>\n",
       "      <td>0.0</td>\n",
       "    </tr>\n",
       "    <tr>\n",
       "      <th>3</th>\n",
       "      <td>201000000004</td>\n",
       "      <td>2010</td>\n",
       "      <td>9</td>\n",
       "      <td>22</td>\n",
       "      <td>1630</td>\n",
       "      <td>1</td>\n",
       "      <td>2</td>\n",
       "      <td>1</td>\n",
       "      <td>1.0</td>\n",
       "      <td>6.0</td>\n",
       "      <td>477</td>\n",
       "      <td>43 rue Nationale</td>\n",
       "      <td>M</td>\n",
       "      <td>5051800.0</td>\n",
       "      <td>292500</td>\n",
       "      <td>590</td>\n",
       "      <td>2010</td>\n",
       "      <td>3</td>\n",
       "      <td>39</td>\n",
       "      <td>NaN</td>\n",
       "      <td>NaN</td>\n",
       "      <td>2.0</td>\n",
       "      <td>2.0</td>\n",
       "      <td>0.0</td>\n",
       "      <td>0.0</td>\n",
       "      <td>0.0</td>\n",
       "      <td>1.0</td>\n",
       "      <td>1.0</td>\n",
       "      <td>0.0</td>\n",
       "      <td>68.0</td>\n",
       "      <td>1.0</td>\n",
       "      <td>0.0</td>\n",
       "      <td>1.0</td>\n",
       "      <td>0.0</td>\n",
       "    </tr>\n",
       "    <tr>\n",
       "      <th>4</th>\n",
       "      <td>201000000005</td>\n",
       "      <td>2010</td>\n",
       "      <td>10</td>\n",
       "      <td>25</td>\n",
       "      <td>1215</td>\n",
       "      <td>1</td>\n",
       "      <td>2</td>\n",
       "      <td>1</td>\n",
       "      <td>1.0</td>\n",
       "      <td>2.0</td>\n",
       "      <td>52</td>\n",
       "      <td>RUE GHESQUIERES</td>\n",
       "      <td>M</td>\n",
       "      <td>5050800.0</td>\n",
       "      <td>289700</td>\n",
       "      <td>590</td>\n",
       "      <td>2010</td>\n",
       "      <td>3</td>\n",
       "      <td>239</td>\n",
       "      <td>NaN</td>\n",
       "      <td>NaN</td>\n",
       "      <td>2.0</td>\n",
       "      <td>1.0</td>\n",
       "      <td>0.0</td>\n",
       "      <td>0.0</td>\n",
       "      <td>0.0</td>\n",
       "      <td>1.0</td>\n",
       "      <td>1.0</td>\n",
       "      <td>0.0</td>\n",
       "      <td>0.0</td>\n",
       "      <td>1.0</td>\n",
       "      <td>0.0</td>\n",
       "      <td>1.0</td>\n",
       "      <td>99.0</td>\n",
       "    </tr>\n",
       "  </tbody>\n",
       "</table>\n",
       "</div>"
      ],
      "text/plain": [
       "        Num_Acc  an_caract  mois  jour  hrmn  lum  agg  int  atm  col  com  \\\n",
       "0  201000000001       2010     6    12  1930    1    2    1  1.0  6.0   52   \n",
       "1  201000000002       2010     8     7  1000    1    2    1  1.0  6.0  477   \n",
       "2  201000000003       2010     9    11  1600    1    1    1  1.0  5.0   11   \n",
       "3  201000000004       2010     9    22  1630    1    2    1  1.0  6.0  477   \n",
       "4  201000000005       2010    10    25  1215    1    2    1  1.0  2.0   52   \n",
       "\n",
       "                  adr gps        lat    long  dep  an_lieux  catr voie   v1  \\\n",
       "0  71 RUE JEAN JAURES   M        0.0       0  590      2010     3   39  NaN   \n",
       "1       Rue Nationale   M  5051600.0  292000  590      2010     3   39  NaN   \n",
       "2                 NaN   M        0.0       0  590      2010     3   41  2.0   \n",
       "3    43 rue Nationale   M  5051800.0  292500  590      2010     3   39  NaN   \n",
       "4     RUE GHESQUIERES   M  5050800.0  289700  590      2010     3  239  NaN   \n",
       "\n",
       "    v2  circ  nbv   pr  pr1  vosp  prof  plan  lartpc  larrout  surf  infra  \\\n",
       "0  NaN   2.0  2.0  0.0  0.0   0.0   1.0   1.0     0.0     60.0   1.0    0.0   \n",
       "1  NaN   2.0  0.0  0.0  0.0   0.0   1.0   1.0     0.0      0.0   1.0    0.0   \n",
       "2  NaN   2.0  2.0  0.0  0.0   0.0   1.0   1.0     0.0     61.0   1.0    0.0   \n",
       "3  NaN   2.0  2.0  0.0  0.0   0.0   1.0   1.0     0.0     68.0   1.0    0.0   \n",
       "4  NaN   2.0  1.0  0.0  0.0   0.0   1.0   1.0     0.0      0.0   1.0    0.0   \n",
       "\n",
       "   situ  env1  \n",
       "0   1.0   0.0  \n",
       "1   1.0   0.0  \n",
       "2   1.0   0.0  \n",
       "3   1.0   0.0  \n",
       "4   1.0  99.0  "
      ]
     },
     "execution_count": 43,
     "metadata": {},
     "output_type": "execute_result"
    }
   ],
   "source": [
    "caract_lieux.head()"
   ]
  },
  {
   "cell_type": "code",
   "execution_count": 55,
   "metadata": {
    "collapsed": true
   },
   "outputs": [],
   "source": [
    "nbAccidentsByRoadCat = caract_lieux[[\"Num_Acc\", \"catr\"]].groupby(\"catr\").apply(lambda group: group.shape[0])"
   ]
  },
  {
   "cell_type": "code",
   "execution_count": 56,
   "metadata": {},
   "outputs": [
    {
     "data": {
      "text/plain": [
       "<matplotlib.axes._subplots.AxesSubplot at 0xd5b00b8>"
      ]
     },
     "execution_count": 56,
     "metadata": {},
     "output_type": "execute_result"
    },
    {
     "data": {
      "image/png": "[encoded data removed]",
      "text/plain": [
       "<matplotlib.figure.Figure at 0xd5b0748>"
      ]
     },
     "metadata": {},
     "output_type": "display_data"
    }
   ],
   "source": [
    "plt.figure(figsize = (16, 6))\n",
    "plt.ylim(ymin = nbAccidentsByRoadCat.min() - 1000, ymax = nbAccidentsByRoadCat.max() + 1000)\n",
    "nbAccidentsByRoadCat.plot.bar()"
   ]
  },
  {
   "cell_type": "markdown",
   "metadata": {},
   "source": [
    "** La plupart des accidents ont lieu sur les routes départementales et communales **"
   ]
  },
  {
   "cell_type": "code",
   "execution_count": 57,
   "metadata": {
    "collapsed": true
   },
   "outputs": [],
   "source": [
    "nbAccidentsByCirc = caract_lieux[[\"Num_Acc\", \"circ\"]].groupby(\"circ\").apply(lambda group: group.shape[0])"
   ]
  },
  {
   "cell_type": "code",
   "execution_count": 58,
   "metadata": {},
   "outputs": [
    {
     "data": {
      "text/plain": [
       "<matplotlib.axes._subplots.AxesSubplot at 0xd5afe10>"
      ]
     },
     "execution_count": 58,
     "metadata": {},
     "output_type": "execute_result"
    },
    {
     "data": {
      "image/png": "[encoded data removed]",
      "text/plain": [
       "<matplotlib.figure.Figure at 0xd5af7b8>"
      ]
     },
     "metadata": {},
     "output_type": "display_data"
    }
   ],
   "source": [
    "plt.figure(figsize = (16, 6))\n",
    "plt.ylim(ymin = nbAccidentsByCirc.min() - 1000, ymax = nbAccidentsByCirc.max() + 1000)\n",
    "nbAccidentsByCirc.plot.bar()"
   ]
  },
  {
   "cell_type": "markdown",
   "metadata": {},
   "source": [
    "** La plupart des accidents ont lieu sur des voies bidirectionnelles **"
   ]
  },
  {
   "cell_type": "code",
   "execution_count": 59,
   "metadata": {
    "collapsed": true
   },
   "outputs": [],
   "source": [
    "nbAccidentsBySurf = caract_lieux[[\"Num_Acc\", \"surf\"]].groupby(\"surf\").apply(lambda group: group.shape[0])"
   ]
  },
  {
   "cell_type": "code",
   "execution_count": 60,
   "metadata": {},
   "outputs": [
    {
     "data": {
      "text/plain": [
       "<matplotlib.axes._subplots.AxesSubplot at 0xd610320>"
      ]
     },
     "execution_count": 60,
     "metadata": {},
     "output_type": "execute_result"
    },
    {
     "data": {
      "image/png": "[encoded data removed]",
      "text/plain": [
       "<matplotlib.figure.Figure at 0xd6294a8>"
      ]
     },
     "metadata": {},
     "output_type": "display_data"
    }
   ],
   "source": [
    "plt.figure(figsize = (16, 6))\n",
    "plt.ylim(ymin = nbAccidentsBySurf.min() - 1000, ymax = nbAccidentsBySurf.max() + 1000)\n",
    "nbAccidentsBySurf.plot.bar()"
   ]
  },
  {
   "cell_type": "markdown",
   "metadata": {},
   "source": [
    "** Histoire: Plus de 75% des accidents ont lieu quand la surface du sol est normale **"
   ]
  },
  {
   "cell_type": "code",
   "execution_count": 12,
   "metadata": {
    "collapsed": true
   },
   "outputs": [],
   "source": [
    "caract_lieux_vehicules = caract_lieux.merge(vehicules, on = \"Num_Acc\")"
   ]
  },
  {
   "cell_type": "code",
   "execution_count": 81,
   "metadata": {},
   "outputs": [
    {
     "data": {
      "text/html": [
       "<div>\n",
       "<style>\n",
       "    .dataframe thead tr:only-child th {\n",
       "        text-align: right;\n",
       "    }\n",
       "\n",
       "    .dataframe thead th {\n",
       "        text-align: left;\n",
       "    }\n",
       "\n",
       "    .dataframe tbody tr th {\n",
       "        vertical-align: top;\n",
       "    }\n",
       "</style>\n",
       "<table border=\"1\" class=\"dataframe\">\n",
       "  <thead>\n",
       "    <tr style=\"text-align: right;\">\n",
       "      <th></th>\n",
       "      <th>Num_Acc</th>\n",
       "      <th>an_caract</th>\n",
       "      <th>mois</th>\n",
       "      <th>jour</th>\n",
       "      <th>hrmn</th>\n",
       "      <th>lum</th>\n",
       "      <th>agg</th>\n",
       "      <th>int</th>\n",
       "      <th>atm</th>\n",
       "      <th>col</th>\n",
       "      <th>com</th>\n",
       "      <th>adr</th>\n",
       "      <th>gps</th>\n",
       "      <th>lat</th>\n",
       "      <th>long</th>\n",
       "      <th>dep</th>\n",
       "      <th>an_lieux</th>\n",
       "      <th>catr</th>\n",
       "      <th>voie</th>\n",
       "      <th>v1</th>\n",
       "      <th>v2</th>\n",
       "      <th>circ</th>\n",
       "      <th>nbv</th>\n",
       "      <th>pr</th>\n",
       "      <th>pr1</th>\n",
       "      <th>vosp</th>\n",
       "      <th>prof</th>\n",
       "      <th>plan</th>\n",
       "      <th>lartpc</th>\n",
       "      <th>larrout</th>\n",
       "      <th>surf</th>\n",
       "      <th>infra</th>\n",
       "      <th>situ</th>\n",
       "      <th>env1</th>\n",
       "      <th>Annee</th>\n",
       "      <th>senc</th>\n",
       "      <th>catv</th>\n",
       "      <th>occutc</th>\n",
       "      <th>obs</th>\n",
       "      <th>obsm</th>\n",
       "      <th>choc</th>\n",
       "      <th>manv</th>\n",
       "      <th>num_veh</th>\n",
       "    </tr>\n",
       "  </thead>\n",
       "  <tbody>\n",
       "    <tr>\n",
       "      <th>0</th>\n",
       "      <td>201000000001</td>\n",
       "      <td>2010</td>\n",
       "      <td>6</td>\n",
       "      <td>12</td>\n",
       "      <td>1930</td>\n",
       "      <td>1</td>\n",
       "      <td>2</td>\n",
       "      <td>1</td>\n",
       "      <td>1.0</td>\n",
       "      <td>6.0</td>\n",
       "      <td>52</td>\n",
       "      <td>71 RUE JEAN JAURES</td>\n",
       "      <td>M</td>\n",
       "      <td>0.0</td>\n",
       "      <td>0</td>\n",
       "      <td>590</td>\n",
       "      <td>2010</td>\n",
       "      <td>3</td>\n",
       "      <td>39</td>\n",
       "      <td>NaN</td>\n",
       "      <td>NaN</td>\n",
       "      <td>2.0</td>\n",
       "      <td>2.0</td>\n",
       "      <td>0.0</td>\n",
       "      <td>0.0</td>\n",
       "      <td>0.0</td>\n",
       "      <td>1.0</td>\n",
       "      <td>1.0</td>\n",
       "      <td>0.0</td>\n",
       "      <td>60.0</td>\n",
       "      <td>1.0</td>\n",
       "      <td>0.0</td>\n",
       "      <td>1.0</td>\n",
       "      <td>0.0</td>\n",
       "      <td>2010</td>\n",
       "      <td>0.0</td>\n",
       "      <td>30</td>\n",
       "      <td>0</td>\n",
       "      <td>1.0</td>\n",
       "      <td>0.0</td>\n",
       "      <td>1.0</td>\n",
       "      <td>1.0</td>\n",
       "      <td>A01</td>\n",
       "    </tr>\n",
       "    <tr>\n",
       "      <th>1</th>\n",
       "      <td>201000000002</td>\n",
       "      <td>2010</td>\n",
       "      <td>8</td>\n",
       "      <td>7</td>\n",
       "      <td>1000</td>\n",
       "      <td>1</td>\n",
       "      <td>2</td>\n",
       "      <td>1</td>\n",
       "      <td>1.0</td>\n",
       "      <td>6.0</td>\n",
       "      <td>477</td>\n",
       "      <td>Rue Nationale</td>\n",
       "      <td>M</td>\n",
       "      <td>5051600.0</td>\n",
       "      <td>292000</td>\n",
       "      <td>590</td>\n",
       "      <td>2010</td>\n",
       "      <td>3</td>\n",
       "      <td>39</td>\n",
       "      <td>NaN</td>\n",
       "      <td>NaN</td>\n",
       "      <td>2.0</td>\n",
       "      <td>0.0</td>\n",
       "      <td>0.0</td>\n",
       "      <td>0.0</td>\n",
       "      <td>0.0</td>\n",
       "      <td>1.0</td>\n",
       "      <td>1.0</td>\n",
       "      <td>0.0</td>\n",
       "      <td>0.0</td>\n",
       "      <td>1.0</td>\n",
       "      <td>0.0</td>\n",
       "      <td>1.0</td>\n",
       "      <td>0.0</td>\n",
       "      <td>2010</td>\n",
       "      <td>0.0</td>\n",
       "      <td>7</td>\n",
       "      <td>0</td>\n",
       "      <td>0.0</td>\n",
       "      <td>1.0</td>\n",
       "      <td>1.0</td>\n",
       "      <td>1.0</td>\n",
       "      <td>A01</td>\n",
       "    </tr>\n",
       "    <tr>\n",
       "      <th>2</th>\n",
       "      <td>201000000003</td>\n",
       "      <td>2010</td>\n",
       "      <td>9</td>\n",
       "      <td>11</td>\n",
       "      <td>1600</td>\n",
       "      <td>1</td>\n",
       "      <td>1</td>\n",
       "      <td>1</td>\n",
       "      <td>1.0</td>\n",
       "      <td>5.0</td>\n",
       "      <td>11</td>\n",
       "      <td>NaN</td>\n",
       "      <td>M</td>\n",
       "      <td>0.0</td>\n",
       "      <td>0</td>\n",
       "      <td>590</td>\n",
       "      <td>2010</td>\n",
       "      <td>3</td>\n",
       "      <td>41</td>\n",
       "      <td>2.0</td>\n",
       "      <td>NaN</td>\n",
       "      <td>2.0</td>\n",
       "      <td>2.0</td>\n",
       "      <td>0.0</td>\n",
       "      <td>0.0</td>\n",
       "      <td>0.0</td>\n",
       "      <td>1.0</td>\n",
       "      <td>1.0</td>\n",
       "      <td>0.0</td>\n",
       "      <td>61.0</td>\n",
       "      <td>1.0</td>\n",
       "      <td>0.0</td>\n",
       "      <td>1.0</td>\n",
       "      <td>0.0</td>\n",
       "      <td>2010</td>\n",
       "      <td>0.0</td>\n",
       "      <td>33</td>\n",
       "      <td>0</td>\n",
       "      <td>0.0</td>\n",
       "      <td>2.0</td>\n",
       "      <td>1.0</td>\n",
       "      <td>17.0</td>\n",
       "      <td>A01</td>\n",
       "    </tr>\n",
       "    <tr>\n",
       "      <th>3</th>\n",
       "      <td>201000000003</td>\n",
       "      <td>2010</td>\n",
       "      <td>9</td>\n",
       "      <td>11</td>\n",
       "      <td>1600</td>\n",
       "      <td>1</td>\n",
       "      <td>1</td>\n",
       "      <td>1</td>\n",
       "      <td>1.0</td>\n",
       "      <td>5.0</td>\n",
       "      <td>11</td>\n",
       "      <td>NaN</td>\n",
       "      <td>M</td>\n",
       "      <td>0.0</td>\n",
       "      <td>0</td>\n",
       "      <td>590</td>\n",
       "      <td>2010</td>\n",
       "      <td>3</td>\n",
       "      <td>41</td>\n",
       "      <td>2.0</td>\n",
       "      <td>NaN</td>\n",
       "      <td>2.0</td>\n",
       "      <td>2.0</td>\n",
       "      <td>0.0</td>\n",
       "      <td>0.0</td>\n",
       "      <td>0.0</td>\n",
       "      <td>1.0</td>\n",
       "      <td>1.0</td>\n",
       "      <td>0.0</td>\n",
       "      <td>61.0</td>\n",
       "      <td>1.0</td>\n",
       "      <td>0.0</td>\n",
       "      <td>1.0</td>\n",
       "      <td>0.0</td>\n",
       "      <td>2010</td>\n",
       "      <td>0.0</td>\n",
       "      <td>7</td>\n",
       "      <td>0</td>\n",
       "      <td>0.0</td>\n",
       "      <td>9.0</td>\n",
       "      <td>3.0</td>\n",
       "      <td>23.0</td>\n",
       "      <td>C03</td>\n",
       "    </tr>\n",
       "    <tr>\n",
       "      <th>4</th>\n",
       "      <td>201000000003</td>\n",
       "      <td>2010</td>\n",
       "      <td>9</td>\n",
       "      <td>11</td>\n",
       "      <td>1600</td>\n",
       "      <td>1</td>\n",
       "      <td>1</td>\n",
       "      <td>1</td>\n",
       "      <td>1.0</td>\n",
       "      <td>5.0</td>\n",
       "      <td>11</td>\n",
       "      <td>NaN</td>\n",
       "      <td>M</td>\n",
       "      <td>0.0</td>\n",
       "      <td>0</td>\n",
       "      <td>590</td>\n",
       "      <td>2010</td>\n",
       "      <td>3</td>\n",
       "      <td>41</td>\n",
       "      <td>2.0</td>\n",
       "      <td>NaN</td>\n",
       "      <td>2.0</td>\n",
       "      <td>2.0</td>\n",
       "      <td>0.0</td>\n",
       "      <td>0.0</td>\n",
       "      <td>0.0</td>\n",
       "      <td>1.0</td>\n",
       "      <td>1.0</td>\n",
       "      <td>0.0</td>\n",
       "      <td>61.0</td>\n",
       "      <td>1.0</td>\n",
       "      <td>0.0</td>\n",
       "      <td>1.0</td>\n",
       "      <td>0.0</td>\n",
       "      <td>2010</td>\n",
       "      <td>0.0</td>\n",
       "      <td>7</td>\n",
       "      <td>0</td>\n",
       "      <td>0.0</td>\n",
       "      <td>9.0</td>\n",
       "      <td>6.0</td>\n",
       "      <td>1.0</td>\n",
       "      <td>B02</td>\n",
       "    </tr>\n",
       "  </tbody>\n",
       "</table>\n",
       "</div>"
      ],
      "text/plain": [
       "        Num_Acc  an_caract  mois  jour  hrmn  lum  agg  int  atm  col  com  \\\n",
       "0  201000000001       2010     6    12  1930    1    2    1  1.0  6.0   52   \n",
       "1  201000000002       2010     8     7  1000    1    2    1  1.0  6.0  477   \n",
       "2  201000000003       2010     9    11  1600    1    1    1  1.0  5.0   11   \n",
       "3  201000000003       2010     9    11  1600    1    1    1  1.0  5.0   11   \n",
       "4  201000000003       2010     9    11  1600    1    1    1  1.0  5.0   11   \n",
       "\n",
       "                  adr gps        lat    long  dep  an_lieux  catr voie   v1  \\\n",
       "0  71 RUE JEAN JAURES   M        0.0       0  590      2010     3   39  NaN   \n",
       "1       Rue Nationale   M  5051600.0  292000  590      2010     3   39  NaN   \n",
       "2                 NaN   M        0.0       0  590      2010     3   41  2.0   \n",
       "3                 NaN   M        0.0       0  590      2010     3   41  2.0   \n",
       "4                 NaN   M        0.0       0  590      2010     3   41  2.0   \n",
       "\n",
       "    v2  circ  nbv   pr  pr1  vosp  prof  plan  lartpc  larrout  surf  infra  \\\n",
       "0  NaN   2.0  2.0  0.0  0.0   0.0   1.0   1.0     0.0     60.0   1.0    0.0   \n",
       "1  NaN   2.0  0.0  0.0  0.0   0.0   1.0   1.0     0.0      0.0   1.0    0.0   \n",
       "2  NaN   2.0  2.0  0.0  0.0   0.0   1.0   1.0     0.0     61.0   1.0    0.0   \n",
       "3  NaN   2.0  2.0  0.0  0.0   0.0   1.0   1.0     0.0     61.0   1.0    0.0   \n",
       "4  NaN   2.0  2.0  0.0  0.0   0.0   1.0   1.0     0.0     61.0   1.0    0.0   \n",
       "\n",
       "   situ  env1  Annee  senc  catv  occutc  obs  obsm  choc  manv num_veh  \n",
       "0   1.0   0.0   2010   0.0    30       0  1.0   0.0   1.0   1.0     A01  \n",
       "1   1.0   0.0   2010   0.0     7       0  0.0   1.0   1.0   1.0     A01  \n",
       "2   1.0   0.0   2010   0.0    33       0  0.0   2.0   1.0  17.0     A01  \n",
       "3   1.0   0.0   2010   0.0     7       0  0.0   9.0   3.0  23.0     C03  \n",
       "4   1.0   0.0   2010   0.0     7       0  0.0   9.0   6.0   1.0     B02  "
      ]
     },
     "execution_count": 81,
     "metadata": {},
     "output_type": "execute_result"
    }
   ],
   "source": [
    "caract_lieux_vehicules.head()"
   ]
  },
  {
   "cell_type": "code",
   "execution_count": 86,
   "metadata": {},
   "outputs": [
    {
     "data": {
      "text/plain": [
       "(350242, 43)"
      ]
     },
     "execution_count": 86,
     "metadata": {},
     "output_type": "execute_result"
    }
   ],
   "source": [
    "caract_lieux_vehicules.shape"
   ]
  },
  {
   "cell_type": "code",
   "execution_count": 13,
   "metadata": {
    "collapsed": true
   },
   "outputs": [],
   "source": [
    "caract_lieux_vehicules_usagers = caract_lieux_vehicules.merge(usagers, on = [\"Num_Acc\", \"num_veh\"],\n",
    "                                suffixes = [\"_caract\", \"_vehicules\"])"
   ]
  },
  {
   "cell_type": "code",
   "execution_count": 85,
   "metadata": {},
   "outputs": [
    {
     "data": {
      "text/html": [
       "<div>\n",
       "<style>\n",
       "    .dataframe thead tr:only-child th {\n",
       "        text-align: right;\n",
       "    }\n",
       "\n",
       "    .dataframe thead th {\n",
       "        text-align: left;\n",
       "    }\n",
       "\n",
       "    .dataframe tbody tr th {\n",
       "        vertical-align: top;\n",
       "    }\n",
       "</style>\n",
       "<table border=\"1\" class=\"dataframe\">\n",
       "  <thead>\n",
       "    <tr style=\"text-align: right;\">\n",
       "      <th></th>\n",
       "      <th>Num_Acc</th>\n",
       "      <th>an_caract</th>\n",
       "      <th>mois</th>\n",
       "      <th>jour</th>\n",
       "      <th>hrmn</th>\n",
       "      <th>lum</th>\n",
       "      <th>agg</th>\n",
       "      <th>int</th>\n",
       "      <th>atm</th>\n",
       "      <th>col</th>\n",
       "      <th>com</th>\n",
       "      <th>adr</th>\n",
       "      <th>gps</th>\n",
       "      <th>lat</th>\n",
       "      <th>long</th>\n",
       "      <th>dep</th>\n",
       "      <th>an_lieux</th>\n",
       "      <th>catr</th>\n",
       "      <th>voie</th>\n",
       "      <th>v1</th>\n",
       "      <th>v2</th>\n",
       "      <th>circ</th>\n",
       "      <th>nbv</th>\n",
       "      <th>pr</th>\n",
       "      <th>pr1</th>\n",
       "      <th>vosp</th>\n",
       "      <th>prof</th>\n",
       "      <th>plan</th>\n",
       "      <th>lartpc</th>\n",
       "      <th>larrout</th>\n",
       "      <th>surf</th>\n",
       "      <th>infra</th>\n",
       "      <th>situ</th>\n",
       "      <th>env1</th>\n",
       "      <th>Annee</th>\n",
       "      <th>senc</th>\n",
       "      <th>catv</th>\n",
       "      <th>occutc</th>\n",
       "      <th>obs</th>\n",
       "      <th>obsm</th>\n",
       "      <th>choc</th>\n",
       "      <th>manv</th>\n",
       "      <th>num_veh</th>\n",
       "      <th>an</th>\n",
       "      <th>place</th>\n",
       "      <th>catu</th>\n",
       "      <th>grav</th>\n",
       "      <th>sexe</th>\n",
       "      <th>trajet</th>\n",
       "      <th>secu</th>\n",
       "      <th>locp</th>\n",
       "      <th>actp</th>\n",
       "      <th>etatp</th>\n",
       "      <th>an_nais</th>\n",
       "    </tr>\n",
       "  </thead>\n",
       "  <tbody>\n",
       "    <tr>\n",
       "      <th>0</th>\n",
       "      <td>201000000001</td>\n",
       "      <td>2010</td>\n",
       "      <td>6</td>\n",
       "      <td>12</td>\n",
       "      <td>1930</td>\n",
       "      <td>1</td>\n",
       "      <td>2</td>\n",
       "      <td>1</td>\n",
       "      <td>1.0</td>\n",
       "      <td>6.0</td>\n",
       "      <td>52</td>\n",
       "      <td>71 RUE JEAN JAURES</td>\n",
       "      <td>M</td>\n",
       "      <td>0.0</td>\n",
       "      <td>0</td>\n",
       "      <td>590</td>\n",
       "      <td>2010</td>\n",
       "      <td>3</td>\n",
       "      <td>39</td>\n",
       "      <td>NaN</td>\n",
       "      <td>NaN</td>\n",
       "      <td>2.0</td>\n",
       "      <td>2.0</td>\n",
       "      <td>0.0</td>\n",
       "      <td>0.0</td>\n",
       "      <td>0.0</td>\n",
       "      <td>1.0</td>\n",
       "      <td>1.0</td>\n",
       "      <td>0.0</td>\n",
       "      <td>60.0</td>\n",
       "      <td>1.0</td>\n",
       "      <td>0.0</td>\n",
       "      <td>1.0</td>\n",
       "      <td>0.0</td>\n",
       "      <td>2010</td>\n",
       "      <td>0.0</td>\n",
       "      <td>30</td>\n",
       "      <td>0</td>\n",
       "      <td>1.0</td>\n",
       "      <td>0.0</td>\n",
       "      <td>1.0</td>\n",
       "      <td>1.0</td>\n",
       "      <td>A01</td>\n",
       "      <td>2010</td>\n",
       "      <td>1.0</td>\n",
       "      <td>1</td>\n",
       "      <td>3</td>\n",
       "      <td>1</td>\n",
       "      <td>5.0</td>\n",
       "      <td>21.0</td>\n",
       "      <td>0.0</td>\n",
       "      <td>0.0</td>\n",
       "      <td>0.0</td>\n",
       "      <td>1976.0</td>\n",
       "    </tr>\n",
       "    <tr>\n",
       "      <th>1</th>\n",
       "      <td>201000000002</td>\n",
       "      <td>2010</td>\n",
       "      <td>8</td>\n",
       "      <td>7</td>\n",
       "      <td>1000</td>\n",
       "      <td>1</td>\n",
       "      <td>2</td>\n",
       "      <td>1</td>\n",
       "      <td>1.0</td>\n",
       "      <td>6.0</td>\n",
       "      <td>477</td>\n",
       "      <td>Rue Nationale</td>\n",
       "      <td>M</td>\n",
       "      <td>5051600.0</td>\n",
       "      <td>292000</td>\n",
       "      <td>590</td>\n",
       "      <td>2010</td>\n",
       "      <td>3</td>\n",
       "      <td>39</td>\n",
       "      <td>NaN</td>\n",
       "      <td>NaN</td>\n",
       "      <td>2.0</td>\n",
       "      <td>0.0</td>\n",
       "      <td>0.0</td>\n",
       "      <td>0.0</td>\n",
       "      <td>0.0</td>\n",
       "      <td>1.0</td>\n",
       "      <td>1.0</td>\n",
       "      <td>0.0</td>\n",
       "      <td>0.0</td>\n",
       "      <td>1.0</td>\n",
       "      <td>0.0</td>\n",
       "      <td>1.0</td>\n",
       "      <td>0.0</td>\n",
       "      <td>2010</td>\n",
       "      <td>0.0</td>\n",
       "      <td>7</td>\n",
       "      <td>0</td>\n",
       "      <td>0.0</td>\n",
       "      <td>1.0</td>\n",
       "      <td>1.0</td>\n",
       "      <td>1.0</td>\n",
       "      <td>A01</td>\n",
       "      <td>2010</td>\n",
       "      <td>NaN</td>\n",
       "      <td>3</td>\n",
       "      <td>3</td>\n",
       "      <td>1</td>\n",
       "      <td>0.0</td>\n",
       "      <td>NaN</td>\n",
       "      <td>4.0</td>\n",
       "      <td>3.0</td>\n",
       "      <td>1.0</td>\n",
       "      <td>1965.0</td>\n",
       "    </tr>\n",
       "    <tr>\n",
       "      <th>2</th>\n",
       "      <td>201000000002</td>\n",
       "      <td>2010</td>\n",
       "      <td>8</td>\n",
       "      <td>7</td>\n",
       "      <td>1000</td>\n",
       "      <td>1</td>\n",
       "      <td>2</td>\n",
       "      <td>1</td>\n",
       "      <td>1.0</td>\n",
       "      <td>6.0</td>\n",
       "      <td>477</td>\n",
       "      <td>Rue Nationale</td>\n",
       "      <td>M</td>\n",
       "      <td>5051600.0</td>\n",
       "      <td>292000</td>\n",
       "      <td>590</td>\n",
       "      <td>2010</td>\n",
       "      <td>3</td>\n",
       "      <td>39</td>\n",
       "      <td>NaN</td>\n",
       "      <td>NaN</td>\n",
       "      <td>2.0</td>\n",
       "      <td>0.0</td>\n",
       "      <td>0.0</td>\n",
       "      <td>0.0</td>\n",
       "      <td>0.0</td>\n",
       "      <td>1.0</td>\n",
       "      <td>1.0</td>\n",
       "      <td>0.0</td>\n",
       "      <td>0.0</td>\n",
       "      <td>1.0</td>\n",
       "      <td>0.0</td>\n",
       "      <td>1.0</td>\n",
       "      <td>0.0</td>\n",
       "      <td>2010</td>\n",
       "      <td>0.0</td>\n",
       "      <td>7</td>\n",
       "      <td>0</td>\n",
       "      <td>0.0</td>\n",
       "      <td>1.0</td>\n",
       "      <td>1.0</td>\n",
       "      <td>1.0</td>\n",
       "      <td>A01</td>\n",
       "      <td>2010</td>\n",
       "      <td>1.0</td>\n",
       "      <td>1</td>\n",
       "      <td>1</td>\n",
       "      <td>2</td>\n",
       "      <td>5.0</td>\n",
       "      <td>11.0</td>\n",
       "      <td>0.0</td>\n",
       "      <td>0.0</td>\n",
       "      <td>0.0</td>\n",
       "      <td>1983.0</td>\n",
       "    </tr>\n",
       "    <tr>\n",
       "      <th>3</th>\n",
       "      <td>201000000003</td>\n",
       "      <td>2010</td>\n",
       "      <td>9</td>\n",
       "      <td>11</td>\n",
       "      <td>1600</td>\n",
       "      <td>1</td>\n",
       "      <td>1</td>\n",
       "      <td>1</td>\n",
       "      <td>1.0</td>\n",
       "      <td>5.0</td>\n",
       "      <td>11</td>\n",
       "      <td>NaN</td>\n",
       "      <td>M</td>\n",
       "      <td>0.0</td>\n",
       "      <td>0</td>\n",
       "      <td>590</td>\n",
       "      <td>2010</td>\n",
       "      <td>3</td>\n",
       "      <td>41</td>\n",
       "      <td>2.0</td>\n",
       "      <td>NaN</td>\n",
       "      <td>2.0</td>\n",
       "      <td>2.0</td>\n",
       "      <td>0.0</td>\n",
       "      <td>0.0</td>\n",
       "      <td>0.0</td>\n",
       "      <td>1.0</td>\n",
       "      <td>1.0</td>\n",
       "      <td>0.0</td>\n",
       "      <td>61.0</td>\n",
       "      <td>1.0</td>\n",
       "      <td>0.0</td>\n",
       "      <td>1.0</td>\n",
       "      <td>0.0</td>\n",
       "      <td>2010</td>\n",
       "      <td>0.0</td>\n",
       "      <td>33</td>\n",
       "      <td>0</td>\n",
       "      <td>0.0</td>\n",
       "      <td>2.0</td>\n",
       "      <td>1.0</td>\n",
       "      <td>17.0</td>\n",
       "      <td>A01</td>\n",
       "      <td>2010</td>\n",
       "      <td>1.0</td>\n",
       "      <td>1</td>\n",
       "      <td>3</td>\n",
       "      <td>1</td>\n",
       "      <td>5.0</td>\n",
       "      <td>23.0</td>\n",
       "      <td>0.0</td>\n",
       "      <td>0.0</td>\n",
       "      <td>0.0</td>\n",
       "      <td>1979.0</td>\n",
       "    </tr>\n",
       "    <tr>\n",
       "      <th>4</th>\n",
       "      <td>201000000003</td>\n",
       "      <td>2010</td>\n",
       "      <td>9</td>\n",
       "      <td>11</td>\n",
       "      <td>1600</td>\n",
       "      <td>1</td>\n",
       "      <td>1</td>\n",
       "      <td>1</td>\n",
       "      <td>1.0</td>\n",
       "      <td>5.0</td>\n",
       "      <td>11</td>\n",
       "      <td>NaN</td>\n",
       "      <td>M</td>\n",
       "      <td>0.0</td>\n",
       "      <td>0</td>\n",
       "      <td>590</td>\n",
       "      <td>2010</td>\n",
       "      <td>3</td>\n",
       "      <td>41</td>\n",
       "      <td>2.0</td>\n",
       "      <td>NaN</td>\n",
       "      <td>2.0</td>\n",
       "      <td>2.0</td>\n",
       "      <td>0.0</td>\n",
       "      <td>0.0</td>\n",
       "      <td>0.0</td>\n",
       "      <td>1.0</td>\n",
       "      <td>1.0</td>\n",
       "      <td>0.0</td>\n",
       "      <td>61.0</td>\n",
       "      <td>1.0</td>\n",
       "      <td>0.0</td>\n",
       "      <td>1.0</td>\n",
       "      <td>0.0</td>\n",
       "      <td>2010</td>\n",
       "      <td>0.0</td>\n",
       "      <td>7</td>\n",
       "      <td>0</td>\n",
       "      <td>0.0</td>\n",
       "      <td>9.0</td>\n",
       "      <td>3.0</td>\n",
       "      <td>23.0</td>\n",
       "      <td>C03</td>\n",
       "      <td>2010</td>\n",
       "      <td>1.0</td>\n",
       "      <td>1</td>\n",
       "      <td>1</td>\n",
       "      <td>2</td>\n",
       "      <td>5.0</td>\n",
       "      <td>11.0</td>\n",
       "      <td>0.0</td>\n",
       "      <td>0.0</td>\n",
       "      <td>0.0</td>\n",
       "      <td>1959.0</td>\n",
       "    </tr>\n",
       "  </tbody>\n",
       "</table>\n",
       "</div>"
      ],
      "text/plain": [
       "        Num_Acc  an_caract  mois  jour  hrmn  lum  agg  int  atm  col  com  \\\n",
       "0  201000000001       2010     6    12  1930    1    2    1  1.0  6.0   52   \n",
       "1  201000000002       2010     8     7  1000    1    2    1  1.0  6.0  477   \n",
       "2  201000000002       2010     8     7  1000    1    2    1  1.0  6.0  477   \n",
       "3  201000000003       2010     9    11  1600    1    1    1  1.0  5.0   11   \n",
       "4  201000000003       2010     9    11  1600    1    1    1  1.0  5.0   11   \n",
       "\n",
       "                  adr gps        lat    long  dep  an_lieux  catr voie   v1  \\\n",
       "0  71 RUE JEAN JAURES   M        0.0       0  590      2010     3   39  NaN   \n",
       "1       Rue Nationale   M  5051600.0  292000  590      2010     3   39  NaN   \n",
       "2       Rue Nationale   M  5051600.0  292000  590      2010     3   39  NaN   \n",
       "3                 NaN   M        0.0       0  590      2010     3   41  2.0   \n",
       "4                 NaN   M        0.0       0  590      2010     3   41  2.0   \n",
       "\n",
       "    v2  circ  nbv   pr  pr1  vosp  prof  plan  lartpc  larrout  surf  infra  \\\n",
       "0  NaN   2.0  2.0  0.0  0.0   0.0   1.0   1.0     0.0     60.0   1.0    0.0   \n",
       "1  NaN   2.0  0.0  0.0  0.0   0.0   1.0   1.0     0.0      0.0   1.0    0.0   \n",
       "2  NaN   2.0  0.0  0.0  0.0   0.0   1.0   1.0     0.0      0.0   1.0    0.0   \n",
       "3  NaN   2.0  2.0  0.0  0.0   0.0   1.0   1.0     0.0     61.0   1.0    0.0   \n",
       "4  NaN   2.0  2.0  0.0  0.0   0.0   1.0   1.0     0.0     61.0   1.0    0.0   \n",
       "\n",
       "   situ  env1  Annee  senc  catv  occutc  obs  obsm  choc  manv num_veh    an  \\\n",
       "0   1.0   0.0   2010   0.0    30       0  1.0   0.0   1.0   1.0     A01  2010   \n",
       "1   1.0   0.0   2010   0.0     7       0  0.0   1.0   1.0   1.0     A01  2010   \n",
       "2   1.0   0.0   2010   0.0     7       0  0.0   1.0   1.0   1.0     A01  2010   \n",
       "3   1.0   0.0   2010   0.0    33       0  0.0   2.0   1.0  17.0     A01  2010   \n",
       "4   1.0   0.0   2010   0.0     7       0  0.0   9.0   3.0  23.0     C03  2010   \n",
       "\n",
       "   place  catu  grav  sexe  trajet  secu  locp  actp  etatp  an_nais  \n",
       "0    1.0     1     3     1     5.0  21.0   0.0   0.0    0.0   1976.0  \n",
       "1    NaN     3     3     1     0.0   NaN   4.0   3.0    1.0   1965.0  \n",
       "2    1.0     1     1     2     5.0  11.0   0.0   0.0    0.0   1983.0  \n",
       "3    1.0     1     3     1     5.0  23.0   0.0   0.0    0.0   1979.0  \n",
       "4    1.0     1     1     2     5.0  11.0   0.0   0.0    0.0   1959.0  "
      ]
     },
     "execution_count": 85,
     "metadata": {},
     "output_type": "execute_result"
    }
   ],
   "source": [
    "caract_lieux_vehicules_usagers.head()"
   ]
  },
  {
   "cell_type": "code",
   "execution_count": 89,
   "metadata": {
    "collapsed": true
   },
   "outputs": [],
   "source": [
    "colision_gravite = pd.crosstab(caract_lieux_vehicules_usagers[\"col\"], caract_lieux_vehicules_usagers[\"grav\"], normalize = \"index\")"
   ]
  },
  {
   "cell_type": "code",
   "execution_count": 14,
   "metadata": {
    "collapsed": true
   },
   "outputs": [],
   "source": [
    "colision_graviteWN = pd.crosstab(caract_lieux_vehicules_usagers[\"col\"], caract_lieux_vehicules_usagers[\"grav\"])"
   ]
  },
  {
   "cell_type": "code",
   "execution_count": 101,
   "metadata": {},
   "outputs": [
    {
     "data": {
      "text/plain": [
       "<matplotlib.axes._subplots.AxesSubplot at 0x179d3160>"
      ]
     },
     "execution_count": 101,
     "metadata": {},
     "output_type": "execute_result"
    },
    {
     "data": {
      "image/png": "[encoded data removed]",
      "text/plain": [
       "<matplotlib.figure.Figure at 0x10386e10>"
      ]
     },
     "metadata": {},
     "output_type": "display_data"
    }
   ],
   "source": [
    "colision_gravite.plot.bar(stacked = True)"
   ]
  },
  {
   "cell_type": "code",
   "execution_count": 15,
   "metadata": {},
   "outputs": [
    {
     "data": {
      "text/plain": [
       "<matplotlib.axes._subplots.AxesSubplot at 0xbff65c0>"
      ]
     },
     "execution_count": 15,
     "metadata": {},
     "output_type": "execute_result"
    },
    {
     "data": {
      "image/png": "[encoded data removed]",
      "text/plain": [
       "<matplotlib.figure.Figure at 0x14ff9780>"
      ]
     },
     "metadata": {},
     "output_type": "display_data"
    }
   ],
   "source": [
    "colision_graviteWN.plot.bar(stacked = True)"
   ]
  },
  {
   "cell_type": "markdown",
   "metadata": {},
   "source": [
    "** Histoire: Les collisions frontales sont plus graves que les collisions par l'arrière ou sur le côté **"
   ]
  },
  {
   "cell_type": "code",
   "execution_count": 91,
   "metadata": {
    "collapsed": true
   },
   "outputs": [],
   "source": [
    "catroute_gravite = pd.crosstab(caract_lieux_vehicules_usagers[\"catr\"], caract_lieux_vehicules_usagers[\"grav\"], normalize = \"index\")"
   ]
  },
  {
   "cell_type": "code",
   "execution_count": 16,
   "metadata": {
    "collapsed": true
   },
   "outputs": [],
   "source": [
    "catroute_graviteWN = pd.crosstab(caract_lieux_vehicules_usagers[\"catr\"], caract_lieux_vehicules_usagers[\"grav\"])"
   ]
  },
  {
   "cell_type": "code",
   "execution_count": 102,
   "metadata": {},
   "outputs": [
    {
     "data": {
      "text/plain": [
       "<matplotlib.axes._subplots.AxesSubplot at 0x15306390>"
      ]
     },
     "execution_count": 102,
     "metadata": {},
     "output_type": "execute_result"
    },
    {
     "data": {
      "image/png": "[encoded data removed]",
      "text/plain": [
       "<matplotlib.figure.Figure at 0x1537d1d0>"
      ]
     },
     "metadata": {},
     "output_type": "display_data"
    }
   ],
   "source": [
    "catroute_gravite.plot.bar(stacked = True)"
   ]
  },
  {
   "cell_type": "code",
   "execution_count": 17,
   "metadata": {},
   "outputs": [
    {
     "data": {
      "text/plain": [
       "<matplotlib.axes._subplots.AxesSubplot at 0xc55cba8>"
      ]
     },
     "execution_count": 17,
     "metadata": {},
     "output_type": "execute_result"
    },
    {
     "data": {
      "image/png": "[encoded data removed]",
      "text/plain": [
       "<matplotlib.figure.Figure at 0xc502080>"
      ]
     },
     "metadata": {},
     "output_type": "display_data"
    }
   ],
   "source": [
    "catroute_graviteWN.plot.bar(stacked = True)"
   ]
  },
  {
   "cell_type": "markdown",
   "metadata": {},
   "source": [
    "** Histoire: les routes départementales sont les plus mortelles, suivies par les routes nationales puis les autoroutes **"
   ]
  },
  {
   "cell_type": "code",
   "execution_count": null,
   "metadata": {
    "collapsed": true
   },
   "outputs": [],
   "source": []
  }
 ],
 "metadata": {
  "kernelspec": {
   "display_name": "Python 3",
   "language": "python",
   "name": "python3"
  },
  "language_info": {
   "codemirror_mode": {
    "name": "ipython",
    "version": 3
   },
   "file_extension": ".py",
   "mimetype": "text/x-python",
   "name": "python",
   "nbconvert_exporter": "python",
   "pygments_lexer": "ipython3",
   "version": "3.6.3"
  }
 },
 "nbformat": 4,
 "nbformat_minor": 2
}
